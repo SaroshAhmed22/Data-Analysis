{
 "cells": [
  {
   "cell_type": "code",
   "execution_count": 166,
   "id": "c0635321-c07e-45b2-ae59-aeb2fbd8e8d8",
   "metadata": {},
   "outputs": [
    {
     "name": "stdout",
     "output_type": "stream",
     "text": [
      "['Sarosh', 'Hamza', 'Muzammil']\n",
      "Dear Sarosh, welcome to my party\n",
      "Dear Hamza, welcome to my party\n",
      "Dear Muzammil, welcome to my party\n"
     ]
    }
   ],
   "source": [
    "#4-1\n",
    "guest_list = ['Sarosh', 'Hamza', 'Muzammil']\n",
    "print(guest_list)\n",
    "\n",
    "for i in guest_list:\n",
    "     print(f'Dear {i}, welcome to my party' )\n"
   ]
  },
  {
   "cell_type": "code",
   "execution_count": 167,
   "id": "7a50db18-c56d-488e-b16d-2bef57d3dbd9",
   "metadata": {},
   "outputs": [
    {
     "name": "stdout",
     "output_type": "stream",
     "text": [
      "Sorry, Hamza can't make the Dinner.\n",
      "Dear Sarosh, you are Still invited for dinner .\n",
      "Dear Shahrukh, you are Still invited for dinner .\n",
      "Dear Muzammil, you are Still invited for dinner .\n"
     ]
    }
   ],
   "source": [
    "#4-2.\n",
    "\n",
    "print(f\"Sorry, {guest_list[1]} can't make the Dinner.\")\n",
    "\n",
    "\n",
    "guest_list[1] = 'Shahrukh'\n",
    "\n",
    "for guest in guest_list:\n",
    "    print(f\"Dear {guest}, you are Still invited for dinner .\")\n"
   ]
  },
  {
   "cell_type": "code",
   "execution_count": 168,
   "id": "d4b5796c-714c-4115-9c77-9d678effc1a8",
   "metadata": {},
   "outputs": [
    {
     "name": "stdout",
     "output_type": "stream",
     "text": [
      "['Sarosh', 'Shahrukh', 'Muzammil']\n",
      "I just found a bigger dinner table.\n",
      "['Hamza', 'Sarosh', 'Ali', 'Shahrukh', 'Muzammil', 'Zeeshan']\n",
      "Dear Hamza, you are invited for dinner.\n",
      "Dear Sarosh, you are invited for dinner.\n",
      "Dear Ali, you are invited for dinner.\n",
      "Dear Shahrukh, you are invited for dinner.\n",
      "Dear Muzammil, you are invited for dinner.\n",
      "Dear Zeeshan, you are invited for dinner.\n"
     ]
    }
   ],
   "source": [
    "#4-3. \n",
    "print(guest_list)\n",
    "print(\"I just found a bigger dinner table.\")\n",
    "\n",
    "# Adding new guests\n",
    "guest_list.insert(0, 'Hamza')  \n",
    "guest_list.insert(2, 'Ali')   \n",
    "guest_list.append('Zeeshan')  \n",
    "\n",
    "print(guest_list)\n",
    "\n",
    "for guest in guest_list:\n",
    "    print(f\"Dear {guest}, you are invited for dinner.\")\n"
   ]
  },
  {
   "cell_type": "code",
   "execution_count": 169,
   "id": "016ed5fe-a77e-4576-a8e3-c02f4fbffe4c",
   "metadata": {},
   "outputs": [
    {
     "name": "stdout",
     "output_type": "stream",
     "text": [
      "['Hamza', 'Sarosh', 'Ali', 'Shahrukh', 'Muzammil', 'Zeeshan']\n",
      "Sorry the dinner table not arrived I can invite only 2 person\n",
      "Sorry Zeeshan, I can’t invite you to dinner.\n",
      "Sorry Muzammil, I can’t invite you to dinner.\n",
      "Sorry Shahrukh, I can’t invite you to dinner.\n",
      "Sorry Ali, I can’t invite you to dinner.\n",
      "['Hamza', 'Sarosh']\n"
     ]
    }
   ],
   "source": [
    "print(guest_list)\n",
    "print(\"Sorry the dinner table not arrived I can invite only 2 person\")\n",
    "while len(guest_list) > 2:\n",
    "    removed_guest = guest_list.pop()\n",
    "    print(f\"Sorry {removed_guest}, I can’t invite you to dinner.\")\n",
    "\n",
    "print(guest_list)\n"
   ]
  },
  {
   "cell_type": "code",
   "execution_count": 170,
   "id": "7ddbe613-3e49-4304-8600-d11339b83f61",
   "metadata": {},
   "outputs": [
    {
     "name": "stdout",
     "output_type": "stream",
     "text": [
      "Now the Guest list is []\n"
     ]
    }
   ],
   "source": [
    "del guest_list[0]\n",
    "del guest_list[0]\n",
    "print(f\"Now the Guest list is {guest_list}\")"
   ]
  },
  {
   "cell_type": "code",
   "execution_count": 171,
   "id": "68cce4dc-dc53-4c9f-bba2-9a21372dc8ad",
   "metadata": {},
   "outputs": [
    {
     "name": "stdout",
     "output_type": "stream",
     "text": [
      "First country: Canada\n",
      "Fourth country: Japan\n",
      "Last country: France\n"
     ]
    }
   ],
   "source": [
    "countries = ['Canada', 'Australia', 'Germany', 'Japan', 'Brazil', 'India', 'France']\n",
    "\n",
    "\n",
    "first_country = countries[0]\n",
    "print(f\"First country: {first_country}\")  \n",
    "\n",
    "fourth_country = countries[3]\n",
    "print(f\"Fourth country: {fourth_country}\")  \n",
    "\n",
    "last_country = countries[-1]\n",
    "print(f\"Last country: {last_country}\") "
   ]
  },
  {
   "cell_type": "markdown",
   "id": "d500c8e0-3454-40ea-b236-44f6ba70de86",
   "metadata": {},
   "source": [
    "Slicing Operations\n"
   ]
  },
  {
   "cell_type": "code",
   "execution_count": 185,
   "id": "51e206c7-bdba-44e0-818e-e9369950a400",
   "metadata": {},
   "outputs": [
    {
     "name": "stdout",
     "output_type": "stream",
     "text": [
      "First three countries: ['Canada', 'Australia', 'Germany']\n",
      "['Germany', 'Japan']\n",
      "Last three countries: ['Brazil', 'India', 'France']\n"
     ]
    }
   ],
   "source": [
    "first_three_countries = countries[:3]\n",
    "print(f\"First three countries: {first_three_countries}\") \n",
    " \n",
    "print(countries[2:4])  \n",
    "last_three_countries = countries[-3:]\n",
    "print(f\"Last three countries: {last_three_countries}\") \n"
   ]
  },
  {
   "cell_type": "code",
   "execution_count": 203,
   "id": "db24d20c-79c3-4e49-bec2-e80fb4b1be54",
   "metadata": {},
   "outputs": [
    {
     "name": "stdout",
     "output_type": "stream",
     "text": [
      "['Canada', 'Australia', 'Germany', 'Japan', 'Brazil', 'India', 'France']\n",
      "['Canada', 'Australia', 'Germany', 'Japan', 'Brazil', 'India', 'France']\n",
      "['Canada', 'Germany', 'Brazil', 'France']\n",
      "['France', 'India', 'Brazil', 'Japan', 'Germany', 'Australia', 'Canada']\n",
      "['France', 'Brazil', 'Germany', 'Canada']\n",
      "['Australia']\n"
     ]
    }
   ],
   "source": [
    "print(countries)\n",
    "print(countries[::])\n",
    "print(countries[::2])\n",
    "print(countries[::-1])\n",
    "print(countries[::-2])\n",
    "print(countries[1:2:4])\n"
   ]
  },
  {
   "cell_type": "code",
   "execution_count": null,
   "id": "24592c6f-272b-4761-8b22-65763f35dc49",
   "metadata": {},
   "outputs": [],
   "source": []
  }
 ],
 "metadata": {
  "kernelspec": {
   "display_name": "Python 3 (ipykernel)",
   "language": "python",
   "name": "python3"
  },
  "language_info": {
   "codemirror_mode": {
    "name": "ipython",
    "version": 3
   },
   "file_extension": ".py",
   "mimetype": "text/x-python",
   "name": "python",
   "nbconvert_exporter": "python",
   "pygments_lexer": "ipython3",
   "version": "3.12.4"
  }
 },
 "nbformat": 4,
 "nbformat_minor": 5
}
