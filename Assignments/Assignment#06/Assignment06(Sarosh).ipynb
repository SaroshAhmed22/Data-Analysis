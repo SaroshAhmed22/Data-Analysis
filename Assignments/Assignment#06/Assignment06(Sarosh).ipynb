{
 "cells": [
  {
   "cell_type": "code",
   "execution_count": 30,
   "id": "430e0be2-fd49-472d-b72c-4bc3053b16b1",
   "metadata": {},
   "outputs": [
    {
     "name": "stdout",
     "output_type": "stream",
     "text": [
      "* \n",
      "* * \n",
      "* * * \n",
      "* * * * \n",
      "* * * * * \n",
      "* * * * \n",
      "* * * \n",
      "* * \n",
      "* \n"
     ]
    }
   ],
   "source": [
    " #1. Write a Python program to construct the following pattern, using a nested for loop.\n",
    "\n",
    "rows = 5\n",
    "\n",
    "for i in range(1, rows + 1):\n",
    "    for j in range(i):\n",
    "        print(\"*\", end=\" \")\n",
    "    print()  \n",
    "\n",
    "for i in range(rows - 1, 0, -1):\n",
    "    for j in range(i):\n",
    "        print(\"*\", end=\" \")\n",
    "    print()  \n"
   ]
  },
  {
   "cell_type": "code",
   "execution_count": 3,
   "id": "9a742fb1-59ee-4a9e-ba67-06c318b18734",
   "metadata": {},
   "outputs": [
    {
     "name": "stdin",
     "output_type": "stream",
     "text": [
      "Enter Alphabet s\n"
     ]
    },
    {
     "name": "stdout",
     "output_type": "stream",
     "text": [
      "consonant\n"
     ]
    }
   ],
   "source": [
    "#2. Write a Python program to check whether an alphabet which is given by user\n",
    "#in input prompt is a vowel or consonant.\n",
    "\n",
    "User = input('Enter Alphabet')\n",
    "numbers=['a','e','i','o','u','A','E','I','O','U']\n",
    "\n",
    "if User in numbers:\n",
    "    print('vowel')\n",
    "    \n",
    "else:\n",
    "    print('consonant')"
   ]
  },
  {
   "cell_type": "code",
   "execution_count": 5,
   "id": "0d57ef88-dda8-4730-a8b0-d7284eb4e8ee",
   "metadata": {},
   "outputs": [
    {
     "name": "stdin",
     "output_type": "stream",
     "text": [
      "Input a number:  2\n"
     ]
    },
    {
     "name": "stdout",
     "output_type": "stream",
     "text": [
      "2 x 1 = 2\n",
      "2 x 2 = 4\n",
      "2 x 3 = 6\n",
      "2 x 4 = 8\n",
      "2 x 5 = 10\n",
      "2 x 6 = 12\n",
      "2 x 7 = 14\n",
      "2 x 8 = 16\n",
      "2 x 9 = 18\n",
      "2 x 10 = 20\n"
     ]
    }
   ],
   "source": [
    "# 3. Write a Python program to create the multiplication table (from 1 to 10)\n",
    "#of a number and the number will be given by user in input prompt.\n",
    "#Expected Output:\n",
    "\n",
    "\n",
    "number = int(input(\"Input a number: \"))\n",
    "\n",
    "\n",
    "for i in range(1, 11):\n",
    "    print(f\"{number} x {i} = {number * i}\")\n"
   ]
  },
  {
   "cell_type": "code",
   "execution_count": null,
   "id": "c02a4ccb-854e-411b-95c1-e95a0c6103ff",
   "metadata": {},
   "outputs": [
    {
     "name": "stdout",
     "output_type": "stream",
     "text": [
      "7\n"
     ]
    },
    {
     "name": "stdin",
     "output_type": "stream",
     "text": [
      "Guess a number between 1 and 9:  2\n"
     ]
    },
    {
     "name": "stdout",
     "output_type": "stream",
     "text": [
      "Try again!\n"
     ]
    }
   ],
   "source": [
    "#4. Write a Python program to guess a number between 1 and 9.\n",
    "#Note : User is prompted to enter a guess. If the user guesses wrong then\n",
    "#the prompt appears again until the guess is correct, on successful guess,\n",
    "#user will get a \"Well guessed!\" message, and the program will exit.\n",
    "\n",
    "import random\n",
    "\n",
    "target_number = random.randint(1, 9)\n",
    "print(target_number)\n",
    "\n",
    "guess = None\n",
    "\n",
    "while guess != target_number:\n",
    "    guess = int(input(\"Guess a number between 1 and 9: \"))\n",
    "    \n",
    "    if guess < 1 or guess > 9:\n",
    "        print(\"Please enter a number between 1 and 9.\")\n",
    "    elif guess != target_number:\n",
    "        print(\"Try again!\")\n",
    "        \n",
    "print(\"Well guessed!\")\n",
    "\n",
    "\n",
    "\n",
    "\n",
    "\n"
   ]
  },
  {
   "cell_type": "code",
   "execution_count": 19,
   "id": "0fd21a2b-2b8b-4086-8a5f-4209dffac96d",
   "metadata": {},
   "outputs": [
    {
     "name": "stdout",
     "output_type": "stream",
     "text": [
      "Students are\n",
      "{'Pierre Cox': (7, 100)}\n"
     ]
    }
   ],
   "source": [
    "#5. Write a  Python program to filter the height and width of students, which are stored in a dictionary.\n",
    "#Original Dictionary:\n",
    "#{'Cierra Vega': (6.2, 70), 'Alden Cantrell': (5.9, 65), 'Kierra Gentry': (6.0, 68), 'Pierre Cox': (5.8, 66)}\n",
    "#Height > 6ft and Weight> 70kg:\n",
    "#{'Cierra Vega': (6.2, 70)}\n",
    "\n",
    "\n",
    "# Original Dictionary\n",
    "students = {\n",
    "    'Cierra Vega': (6.2, 70),\n",
    "    'Alden Cantrell': (5.9, 65),\n",
    "    'Kierra Gentry': (6.0, 68),\n",
    "    'Pierre Cox': (7, 100)\n",
    "}\n",
    "\n",
    "\n",
    "students_new = {name: (height, weight) for name, (height, weight) in students.items() if height > 6.0 and weight > 70}\n",
    "\n",
    "# Output the result\n",
    "print(\"Students are\")\n",
    "print(students_new)\n"
   ]
  },
  {
   "cell_type": "code",
   "execution_count": 28,
   "id": "46142188-681b-448f-8ef1-4b0bb10351e6",
   "metadata": {},
   "outputs": [
    {
     "name": "stdout",
     "output_type": "stream",
     "text": [
      "{'C1': [], 'C2': [], 'C3': []}\n"
     ]
    }
   ],
   "source": [
    "#6. A  Python dictionary contains List as a value. Write a Python program to clear the list values in the said dictionary.\n",
    "#Original Dictionary:\n",
    "#{'C1': [10, 20, 30], 'C2': [20, 30, 40], 'C3': [12, 34]}\n",
    "#Clear the list values in the said dictionary:\n",
    "#{'C1': [], 'C2': [], 'C3': []}\n",
    "\n",
    "\n",
    "dictionary = {\n",
    "    'C1': [10, 20, 30],\n",
    "    'C2': [20, 30, 40],\n",
    "    'C3': [12, 34]\n",
    "}\n",
    "\n",
    "\n",
    "for key in dictionary:\n",
    "    dictionary[key] = []\n",
    "\n",
    "print(dictionary)\n",
    "\n"
   ]
  },
  {
   "cell_type": "code",
   "execution_count": 30,
   "id": "830b6044-9de6-4431-8f31-77861991eae5",
   "metadata": {},
   "outputs": [
    {
     "name": "stdout",
     "output_type": "stream",
     "text": [
      "The Nile runs through Egypt.\n",
      "The Amazon runs through Brazil.\n",
      "The Yangtze runs through China.\n",
      "\n",
      "Rivers included in the dictionary:\n",
      "Nile\n",
      "Amazon\n",
      "Yangtze\n",
      "\n",
      "Countries included in the dictionary:\n",
      "Egypt\n",
      "Brazil\n",
      "China\n"
     ]
    }
   ],
   "source": [
    "#7.  Rivers: Make a dictionary containing three major rivers and the country\n",
    "#each river runs through. One key-value pair might be 'nile': 'egypt'.\n",
    "#• Use a loop to print a sentence about each river, such as The Nile runs\n",
    "#through Egypt.\n",
    "#• Use a loop to print the name of each river included in the dictionary.\n",
    "#• Use a loop to print the name of each country included in the dictionary.\n",
    "\n",
    "rivers = {\n",
    "    'nile': 'egypt',\n",
    "    'amazon': 'brazil',\n",
    "    'yangtze': 'china'\n",
    "}\n",
    "\n",
    "\n",
    "for river, country in rivers.items():\n",
    "    print(f\"The {river.title()} runs through {country.title()}.\")\n",
    "\n",
    "\n",
    "print(\"\\nRivers included in the dictionary:\")\n",
    "for river in rivers.keys():\n",
    "    print(river.title())\n",
    "\n",
    "\n",
    "print(\"\\nCountries included in the dictionary:\")\n",
    "for country in rivers.values():\n",
    "    print(country.title())\n"
   ]
  },
  {
   "cell_type": "code",
   "execution_count": null,
   "id": "1fa03abb-b6ff-4be8-b065-010bb7dc8c56",
   "metadata": {},
   "outputs": [
    {
     "name": "stdin",
     "output_type": "stream",
     "text": [
      "Please enter your age (or enter 0 to exit):  1212\n"
     ]
    },
    {
     "name": "stdout",
     "output_type": "stream",
     "text": [
      "The price of ticket ticket is $15.\n"
     ]
    },
    {
     "name": "stdin",
     "output_type": "stream",
     "text": [
      "Please enter your age (or enter 0 to exit):  23\n"
     ]
    },
    {
     "name": "stdout",
     "output_type": "stream",
     "text": [
      "The price of ticket ticket is $15.\n"
     ]
    }
   ],
   "source": [
    "## 8. Movie Tickets: A movie theater charges different ticket prices depending on\n",
    "#a person’s age. If a person is under the age of 3, the ticket is free; if they are\n",
    "#between 3 and 12, the ticket is $10; and if they are over age 12, the ticket is\n",
    "#$15. Write a loop in which you ask users their age, and then tell them the cost\n",
    "#of their movie ticket.\n",
    "\n",
    "\n",
    "while True:\n",
    "    age = int(input(\"Please enter your age (or enter 0 to exit): \"))\n",
    "\n",
    "    \n",
    "    if age == 0:\n",
    "        print(\"Exiting the program. Thank you!\")\n",
    "        break\n",
    "\n",
    "    if age < 3:\n",
    "        ticket_price = \"free\"\n",
    "    elif age <= 12:\n",
    "        ticket_price = \"$10\"\n",
    "    else:\n",
    "        ticket_price = \"$15\"\n",
    "\n",
    "    print(f\"The price of ticket ticket is {ticket_price}.\")\n",
    "\n",
    "\n",
    "\n",
    "\n",
    "\n",
    "\n"
   ]
  },
  {
   "cell_type": "code",
   "execution_count": null,
   "id": "e357c13f-864e-4cf0-8264-92dcf7f60176",
   "metadata": {},
   "outputs": [],
   "source": []
  },
  {
   "cell_type": "code",
   "execution_count": null,
   "id": "0158fd62-2124-4ed9-b117-ee2709c61dad",
   "metadata": {},
   "outputs": [],
   "source": []
  },
  {
   "cell_type": "code",
   "execution_count": null,
   "id": "cb6c0980-efbd-42a5-8814-6c8d1068598e",
   "metadata": {},
   "outputs": [],
   "source": []
  }
 ],
 "metadata": {
  "kernelspec": {
   "display_name": "Python 3 (ipykernel)",
   "language": "python",
   "name": "python3"
  },
  "language_info": {
   "codemirror_mode": {
    "name": "ipython",
    "version": 3
   },
   "file_extension": ".py",
   "mimetype": "text/x-python",
   "name": "python",
   "nbconvert_exporter": "python",
   "pygments_lexer": "ipython3",
   "version": "3.12.4"
  }
 },
 "nbformat": 4,
 "nbformat_minor": 5
}
