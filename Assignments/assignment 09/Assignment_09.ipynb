{
 "cells": [
  {
   "cell_type": "code",
   "execution_count": 1,
   "id": "287dda7e-1b07-438e-b483-53c2587e28c9",
   "metadata": {},
   "outputs": [
    {
     "name": "stdout",
     "output_type": "stream",
     "text": [
      "Array 1: [10 20 30 40]\n",
      "Array 2: [1 2 3 4]\n",
      "Addition: [11 22 33 44]\n",
      "Subtraction: [ 9 18 27 36]\n",
      "Multiplication: [ 10  40  90 160]\n",
      "Division: [10. 10. 10. 10.]\n"
     ]
    }
   ],
   "source": [
    "import numpy as np\n",
    "\n",
    "# Create two NumPy arrays\n",
    "array1 = np.array([10, 20, 30, 40])\n",
    "array2 = np.array([1, 2, 3, 4])\n",
    "\n",
    "print(\"Array 1:\", array1)\n",
    "print(\"Array 2:\", array2)\n",
    "\n",
    "addition = array1 + array2\n",
    "print(\"Addition:\", addition)\n",
    "\n",
    "subtraction = array1 - array2\n",
    "print(\"Subtraction:\", subtraction)\n",
    "\n",
    "multiplication = array1 * array2\n",
    "print(\"Multiplication:\", multiplication)\n",
    "\n",
    "\n",
    "division = array1 / array2\n",
    "print(\"Division:\", division)\n",
    "\n"
   ]
  },
  {
   "cell_type": "code",
   "execution_count": 3,
   "id": "60c680ab-1296-477e-950c-3f4a20628d02",
   "metadata": {},
   "outputs": [
    {
     "name": "stdout",
     "output_type": "stream",
     "text": [
      "First Element: 10\n",
      "Third Element: 30\n"
     ]
    }
   ],
   "source": [
    "import numpy as np\n",
    "\n",
    "# Create a sample NumPy array\n",
    "array = np.array([10, 20, 30, 40, 50])\n",
    "\n",
    "# Access specific elements\n",
    "first_element = array[0]\n",
    "third_element = array[2]\n",
    "\n",
    "print(\"First Element:\", first_element)  # Output: 10\n",
    "print(\"Third Element:\", third_element)  # Output: 30\n"
   ]
  },
  {
   "cell_type": "code",
   "execution_count": 9,
   "id": "c165dd5d-7de0-451e-9426-64667efdc29e",
   "metadata": {},
   "outputs": [
    {
     "name": "stdout",
     "output_type": "stream",
     "text": [
      "Element at (1, 2): 6\n",
      "Subset of 2D Array: [[2 3]\n",
      " [5 6]]\n"
     ]
    }
   ],
   "source": [
    "\n",
    "array_2d = np.array([[1, 2, 3], [4, 5, 6], [7, 8, 9]])\n",
    "\n",
    "\n",
    "element = array_2d[1, 2]\n",
    "print(\"Element at (1, 2):\", element)  # Output: 6\n",
    "\n",
    "\n",
    "subset_2d = array_2d[0:2, 1:3]\n",
    "print(\"Subset of 2D Array:\", subset_2d)\n"
   ]
  },
  {
   "cell_type": "code",
   "execution_count": 5,
   "id": "a3bfde47-5356-4251-8364-928a5e63ff42",
   "metadata": {},
   "outputs": [
    {
     "name": "stdout",
     "output_type": "stream",
     "text": [
      "Element at (1, 2): 6\n",
      "Subset of 2D Array: [[2 3]\n",
      " [5 6]]\n"
     ]
    }
   ],
   "source": [
    "\n",
    "array_2d = np.array([[1, 2, 3], [4, 5, 6], [7, 8, 9]])\n",
    "\n",
    "\n",
    "element = array_2d[1, 2]\n",
    "print(\"Element at (1, 2):\", element)  # Output: 6\n",
    "\n",
    "\n",
    "subset_2d = array_2d[0:2, 1:3]\n",
    "print(\"Subset of 2D Array:\", subset_2d)\n"
   ]
  },
  {
   "cell_type": "code",
   "execution_count": 7,
   "id": "36f0a701-3b48-48b7-86f7-f8d8e8c768fb",
   "metadata": {},
   "outputs": [
    {
     "name": "stdout",
     "output_type": "stream",
     "text": [
      "Elements greater than 20: [30 40 50]\n"
     ]
    }
   ],
   "source": [
    "\n",
    "filtered = array[array > 20]\n",
    "print(\"Elements greater than 20:\", filtered)  # Output: [30 40 50]\n",
    "\n"
   ]
  },
  {
   "cell_type": "code",
   "execution_count": 11,
   "id": "cf43fcdf-b90f-4111-9876-b5cda2c4eac5",
   "metadata": {},
   "outputs": [
    {
     "name": "stdout",
     "output_type": "stream",
     "text": [
      "Reshaped Array:\n",
      " [[1 2 3]\n",
      " [4 5 6]]\n",
      "3D Reshaped Array:\n",
      " [[[1 2 3]]\n",
      "\n",
      " [[4 5 6]]]\n",
      "Original Matrix:\n",
      " [[1 2 3]\n",
      " [4 5 6]]\n",
      "Transposed Matrix:\n",
      " [[1 4]\n",
      " [2 5]\n",
      " [3 6]]\n"
     ]
    }
   ],
   "source": [
    "import numpy as np\n",
    "\n",
    "# Create a 1D array with 6 elements\n",
    "array = np.array([1, 2, 3, 4, 5, 6])\n",
    "\n",
    "\n",
    "reshaped_array = array.reshape(2, 3)\n",
    "print(\"Reshaped Array:\\n\", reshaped_array)\n",
    "\n",
    "\n",
    "reshaped_3d_array = array.reshape(2, 1, 3)\n",
    "print(\"3D Reshaped Array:\\n\", reshaped_3d_array)\n",
    "\n",
    "\n",
    "matrix = np.array([[1, 2, 3], [4, 5, 6]])\n",
    "\n",
    "\n",
    "transposed_matrix = matrix.T\n",
    "print(\"Original Matrix:\\n\", matrix)\n",
    "print(\"Transposed Matrix:\\n\", transposed_matrix)\n"
   ]
  },
  {
   "cell_type": "code",
   "execution_count": 17,
   "id": "d95ffd51-bc68-491c-b4c7-b29d36313838",
   "metadata": {},
   "outputs": [
    {
     "name": "stdout",
     "output_type": "stream",
     "text": [
      "Mean: 30.0\n"
     ]
    }
   ],
   "source": [
    "import numpy as np\n",
    "\n",
    "\n",
    "data = np.array([10, 20, 30, 40, 50])\n",
    "\n",
    "\n",
    "mean_value = np.mean(data)\n",
    "print(\"Mean:\", mean_value)\n"
   ]
  },
  {
   "cell_type": "code",
   "execution_count": 15,
   "id": "d15a1934-5d86-4b25-9b00-edcb59f42fc9",
   "metadata": {},
   "outputs": [
    {
     "name": "stdout",
     "output_type": "stream",
     "text": [
      "Median: 30.0\n"
     ]
    }
   ],
   "source": [
    "\n",
    "median_value = np.median(data)\n",
    "print(\"Median:\", median_value)\n"
   ]
  },
  {
   "cell_type": "code",
   "execution_count": 19,
   "id": "43f59d82-c6c3-487f-9899-f6330b8b7a73",
   "metadata": {},
   "outputs": [
    {
     "name": "stdout",
     "output_type": "stream",
     "text": [
      "Standard Deviation: 14.142135623730951\n"
     ]
    }
   ],
   "source": [
    "# Calculate the standard deviation\n",
    "std_deviation = np.std(data)\n",
    "print(\"Standard Deviation:\", std_deviation)\n"
   ]
  },
  {
   "cell_type": "code",
   "execution_count": 21,
   "id": "c5ddf017-cc2c-4672-95b2-ba3d6a5cef61",
   "metadata": {},
   "outputs": [
    {
     "name": "stdout",
     "output_type": "stream",
     "text": [
      "Variance: 200.0\n"
     ]
    }
   ],
   "source": [
    "# Calculate the variance\n",
    "variance_value = np.var(data)\n",
    "print(\"Variance:\", variance_value)\n"
   ]
  },
  {
   "cell_type": "code",
   "execution_count": 25,
   "id": "7f168b63-2f7a-4ee3-80ac-231ea8e6941f",
   "metadata": {},
   "outputs": [
    {
     "name": "stdout",
     "output_type": "stream",
     "text": [
      "Integer Array: [1 2 3 4 5]\n",
      "Float Array: [1.1 2.2 3.3 4.4 5.5]\n",
      "Boolean Array: [ True False  True False]\n",
      "String Array: ['apple' 'banana' 'cherry']\n"
     ]
    }
   ],
   "source": [
    "import numpy as np\n",
    "\n",
    "# Integer array\n",
    "int_array = np.array([1, 2, 3, 4, 5], dtype=int)\n",
    "print(\"Integer Array:\", int_array)\n",
    "\n",
    "# Float array\n",
    "float_array = np.array([1.1, 2.2, 3.3, 4.4, 5.5], dtype=float)\n",
    "print(\"Float Array:\", float_array)\n",
    "\n",
    "# Boolean array\n",
    "bool_array = np.array([True, False, True, False], dtype=bool)\n",
    "print(\"Boolean Array:\", bool_array)\n",
    "\n",
    "\n",
    "# String array\n",
    "str_array = np.array(['apple', 'banana', 'cherry'], dtype=str)\n",
    "print(\"String Array:\", str_array)\n",
    "\n"
   ]
  },
  {
   "cell_type": "code",
   "execution_count": 27,
   "id": "50e536e6-e557-479c-970b-8ea6806a60a6",
   "metadata": {},
   "outputs": [
    {
     "name": "stdout",
     "output_type": "stream",
     "text": [
      "Concatenated 1D array: [1 2 3 4 5 6]\n"
     ]
    }
   ],
   "source": [
    "import numpy as np\n",
    "\n",
    "# Two 1D arrays\n",
    "array1 = np.array([1, 2, 3])\n",
    "array2 = np.array([4, 5, 6])\n",
    "\n",
    "# Concatenate along axis 0 (default for 1D arrays)\n",
    "result = np.concatenate((array1, array2))\n",
    "print(\"Concatenated 1D array:\", result)\n"
   ]
  },
  {
   "cell_type": "code",
   "execution_count": 29,
   "id": "84a6ad83-f4d5-45b9-90bd-105348450482",
   "metadata": {},
   "outputs": [
    {
     "name": "stdout",
     "output_type": "stream",
     "text": [
      "Concatenated 2D array along rows:\n",
      " [[1 2]\n",
      " [3 4]\n",
      " [5 6]\n",
      " [7 8]]\n",
      "Concatenated 2D array along columns:\n",
      " [[1 2 5 6]\n",
      " [3 4 7 8]]\n"
     ]
    }
   ],
   "source": [
    "\n",
    "array3 = np.array([[1, 2], [3, 4]])\n",
    "array4 = np.array([[5, 6], [7, 8]])\n",
    "\n",
    "# Concatenate along axis 0 (rows)\n",
    "result_2d_rows = np.concatenate((array3, array4), axis=0)\n",
    "print(\"Concatenated 2D array along rows:\\n\", result_2d_rows)\n",
    "\n",
    "# Concatenate along axis 1 (columns)\n",
    "result_2d_cols = np.concatenate((array3, array4), axis=1)\n",
    "print(\"Concatenated 2D array along columns:\\n\", result_2d_cols)\n"
   ]
  },
  {
   "cell_type": "code",
   "execution_count": 31,
   "id": "a235824e-f951-4ff5-8273-a6948199f65f",
   "metadata": {},
   "outputs": [
    {
     "name": "stdout",
     "output_type": "stream",
     "text": [
      "Sorted array (ascending): [1 3 6 7 9]\n",
      "Sorted array (descending): [9 7 6 3 1]\n",
      "Sorted 2D array along columns:\n",
      " [[4 1 3]\n",
      " [5 2 6]\n",
      " [9 8 7]]\n",
      "Sorted 2D array along rows:\n",
      " [[2 7 9]\n",
      " [3 4 8]\n",
      " [1 5 6]]\n"
     ]
    }
   ],
   "source": [
    "import numpy as np\n",
    "\n",
    "\n",
    "array = np.array([9, 3, 7, 1, 6])\n",
    "\n",
    "\n",
    "sorted_array = np.sort(array)\n",
    "print(\"Sorted array (ascending):\", sorted_array)\n",
    "\n",
    "\n",
    "# To sort in descending order, simply reverse the sorted array\n",
    "sorted_desc_array = np.sort(array)[::-1]\n",
    "print(\"Sorted array (descending):\", sorted_desc_array)\n",
    "\n",
    "# 2D array\n",
    "array_2d = np.array([[9, 2, 7], [4, 8, 3], [5, 1, 6]])\n",
    "\n",
    "# Sort each column (axis=0)\n",
    "sorted_array_2d_columns = np.sort(array_2d, axis=0)\n",
    "print(\"Sorted 2D array along columns:\\n\", sorted_array_2d_columns)\n",
    "\n",
    "# Sort each row (axis=1)\n",
    "sorted_array_2d_rows = np.sort(array_2d, axis=1)\n",
    "print(\"Sorted 2D array along rows:\\n\", sorted_array_2d_rows)\n"
   ]
  },
  {
   "cell_type": "code",
   "execution_count": 39,
   "id": "db828e04-ee55-434f-818a-613f1fc95717",
   "metadata": {},
   "outputs": [
    {
     "name": "stdout",
     "output_type": "stream",
     "text": [
      "    Name  Age    Country\n",
      "0   John   28        USA\n",
      "1   Anna   22     Canada\n",
      "2  Peter   35    Germany\n",
      "3  Linda   32  Australia\n",
      "4  James   40         UK\n",
      "\n",
      "====================================================\n",
      "\n",
      "    Product  Price  Quantity\n",
      "0    Laptop    800        10\n",
      "1     Phone    600        15\n",
      "2    Tablet    300        12\n",
      "3   Monitor    200         8\n",
      "4  Keyboard    100        25\n",
      "\n",
      "====================================================\n",
      "\n",
      "   EmployeeID Department  Salary\n",
      "0         101      Sales   50000\n",
      "1         102         HR   60000\n",
      "2         103         IT   70000\n",
      "3         104    Finance   55000\n",
      "4         105  Marketing   62000\n"
     ]
    }
   ],
   "source": [
    "import pandas as pd\n",
    "\n",
    "# Load CSV file\n",
    "df_csv = pd.read_csv('data.csv')\n",
    "\n",
    "\n",
    "print(df_csv.head())\n",
    "print(\"\")\n",
    "print(\"====================================================\")\n",
    "print(\"\")\n",
    "\n",
    "# Load Excel file\n",
    "df_excel = pd.read_excel('data.xlsx', sheet_name='Sheet1')\n",
    "\n",
    "\n",
    "print(df_excel.head())\n",
    "print(\"\")\n",
    "print(\"====================================================\")\n",
    "print(\"\")\n",
    "\n",
    "\n",
    "\n",
    "\n",
    "# Load JSON file\n",
    "df_json = pd.read_json('data.json')\n",
    "\n",
    "\n",
    "print(df_json.head())\n"
   ]
  },
  {
   "cell_type": "code",
   "execution_count": 61,
   "id": "a9c1343f-8b9d-4a77-95f3-13a7e97af320",
   "metadata": {},
   "outputs": [
    {
     "name": "stdout",
     "output_type": "stream",
     "text": [
      "    Name   Age    Country\n",
      "0   John  28.0        USA\n",
      "1   Anna  22.0     Canada\n",
      "2  Peter  35.0    Germany\n",
      "3  Linda   NaN  Australia\n",
      "4  James   NaN         UK\n",
      "\n",
      "====================================================\n",
      "\n",
      "Shape of the DataFrame: (5, 3)\n",
      "\n",
      "====================================================\n",
      "\n",
      "Data types of each column:\n",
      " Name        object\n",
      "Age        float64\n",
      "Country     object\n",
      "dtype: object\n",
      "\n",
      "====================================================\n",
      "\n",
      "Missing values in the DataFrame:\n",
      " Name       0\n",
      "Age        2\n",
      "Country    0\n",
      "dtype: int64\n",
      "\n",
      "====================================================\n",
      "\n",
      "Summary of the DataFrame:\n",
      "<class 'pandas.core.frame.DataFrame'>\n",
      "RangeIndex: 5 entries, 0 to 4\n",
      "Data columns (total 3 columns):\n",
      " #   Column   Non-Null Count  Dtype  \n",
      "---  ------   --------------  -----  \n",
      " 0   Name     5 non-null      object \n",
      " 1   Age      3 non-null      float64\n",
      " 2   Country  5 non-null      object \n",
      "dtypes: float64(1), object(2)\n",
      "memory usage: 252.0+ bytes\n",
      "\n",
      "====================================================\n",
      "\n"
     ]
    }
   ],
   "source": [
    "import pandas as pd\n",
    "\n",
    "# Load data from a CSV file\n",
    "df = pd.read_csv('data.csv')\n",
    "\n",
    "# Display the first few rows of the DataFrame\n",
    "print(df.head())\n",
    "print(\"\")\n",
    "print(\"====================================================\")\n",
    "print(\"\")\n",
    "\n",
    "\n",
    "# Get the shape of the DataFrame\n",
    "print(\"Shape of the DataFrame:\", df.shape)\n",
    "\n",
    "print(\"\")\n",
    "print(\"====================================================\")\n",
    "print(\"\")\n",
    "\n",
    "# Get the data types of the columns\n",
    "print(\"Data types of each column:\\n\", df.dtypes)\n",
    "\n",
    "print(\"\")\n",
    "print(\"====================================================\")\n",
    "print(\"\")\n",
    "\n",
    "# Check for missing values\n",
    "print(\"Missing values in the DataFrame:\\n\", df.isnull().sum())\n",
    "\n",
    "print(\"\")\n",
    "print(\"====================================================\")\n",
    "print(\"\")\n",
    "# Get a summary of the DataFrame\n",
    "print(\"Summary of the DataFrame:\")\n",
    "df.info()\n",
    "\n",
    "print(\"\")\n",
    "print(\"====================================================\")\n",
    "print(\"\")\n",
    "\n"
   ]
  },
  {
   "cell_type": "code",
   "execution_count": 65,
   "id": "fe266e45-8835-45d7-9f23-372f9f5a5f69",
   "metadata": {},
   "outputs": [
    {
     "name": "stdout",
     "output_type": "stream",
     "text": [
      "           Age         Salary\n",
      "count   4.0000       5.000000\n",
      "mean   35.0000  361225.200000\n",
      "std    14.3527  420685.613811\n",
      "min    22.0000   12121.000000\n",
      "25%    26.5000   77755.000000\n",
      "50%    31.5000   78728.000000\n",
      "75%    40.0000  758787.000000\n",
      "max    55.0000  878735.000000\n"
     ]
    }
   ],
   "source": [
    "import pandas as pd\n",
    "\n",
    "# Load the data\n",
    "df = pd.read_csv('data.csv')\n",
    "\n",
    "# Generate descriptive statistics\n",
    "summary_stats = df.describe()\n",
    "\n",
    "# Display the summary statistics\n",
    "print(summary_stats)\n"
   ]
  },
  {
   "cell_type": "code",
   "execution_count": 73,
   "id": "ede2e777-d4c3-4f4b-8f29-e124d6b3c4a2",
   "metadata": {},
   "outputs": [
    {
     "name": "stdout",
     "output_type": "stream",
     "text": [
      "    Name   Age  Salary\n",
      "0   John  28.0   78728\n",
      "1   Anna  22.0  758787\n",
      "2  Peter  35.0  878735\n",
      "3  Linda  55.0   77755\n",
      "4  James   NaN   12121\n"
     ]
    }
   ],
   "source": [
    "import pandas as pd\n",
    "\n",
    "\n",
    "df = pd.read_csv('data.csv')\n",
    "\n",
    "\n",
    "selected_columns = df[['Name', 'Age','Salary']]\n",
    "\n",
    "\n",
    "print(selected_columns)\n"
   ]
  },
  {
   "cell_type": "code",
   "execution_count": 77,
   "id": "15d2b7da-e9c6-454e-9562-d6df2a536229",
   "metadata": {},
   "outputs": [
    {
     "name": "stdout",
     "output_type": "stream",
     "text": [
      "    Name   Age    Country  Salary\n",
      "3  Linda  55.0  Australia   77755\n"
     ]
    }
   ],
   "source": [
    "import pandas as pd\n",
    "\n",
    "\n",
    "df = pd.read_csv('data.csv')\n",
    "filtered_rows = df[df['Age'] > 50]\n",
    "\n",
    "# Display the filtered rows\n",
    "print(filtered_rows)\n"
   ]
  },
  {
   "cell_type": "code",
   "execution_count": 81,
   "id": "a6a4bdeb-5d09-4a2f-ab8a-c51642b4be6d",
   "metadata": {},
   "outputs": [
    {
     "name": "stdout",
     "output_type": "stream",
     "text": [
      "    Name   Age  Salary\n",
      "0   John  28.0   78728\n",
      "1   Anna  22.0  758787\n",
      "2  Peter  35.0  878735\n"
     ]
    }
   ],
   "source": [
    "import pandas as pd\n",
    "\n",
    "\n",
    "df = pd.read_csv('data.csv')\n",
    "\n",
    "# Select specific rows (index 0 to 3) and specific columns (column1 and column3)\n",
    "subset = df.loc[0:2,['Name', 'Age','Salary']]\n",
    "\n",
    "# Display the subset\n",
    "print(subset)\n"
   ]
  },
  {
   "cell_type": "code",
   "execution_count": 89,
   "id": "c56afc8e-a54a-4c62-b721-f8bd4e0df0ea",
   "metadata": {},
   "outputs": [
    {
     "name": "stdout",
     "output_type": "stream",
     "text": [
      "   Name   Age\n",
      "0  John  28.0\n"
     ]
    }
   ],
   "source": [
    "import pandas as pd\n",
    "\n",
    "\n",
    "df = pd.read_csv('data.csv')\n",
    "subset = df.iloc[0:1, 0:2]\n",
    "\n",
    "# Display the subset\n",
    "print(subset)\n"
   ]
  },
  {
   "cell_type": "code",
   "execution_count": 97,
   "id": "6845e6f8-2e98-4486-9c14-0aff574d58c1",
   "metadata": {},
   "outputs": [
    {
     "name": "stdout",
     "output_type": "stream",
     "text": [
      "    Name   Age    Country  Salary\n",
      "3  Linda  55.0  Australia   77755\n"
     ]
    }
   ],
   "source": [
    "import pandas as pd\n",
    "\n",
    "\n",
    "df = pd.read_csv('data.csv')\n",
    "filtered_rows = df[(df['Age'] > 50) & (df['Salary'] < 870000)]\n",
    "\n",
    "# Display the filtered rows\n",
    "print(filtered_rows)\n"
   ]
  },
  {
   "cell_type": "code",
   "execution_count": null,
   "id": "ed5b1c9c-2424-4f98-b658-3c473c273ddf",
   "metadata": {},
   "outputs": [],
   "source": []
  }
 ],
 "metadata": {
  "kernelspec": {
   "display_name": "Python 3 (ipykernel)",
   "language": "python",
   "name": "python3"
  },
  "language_info": {
   "codemirror_mode": {
    "name": "ipython",
    "version": 3
   },
   "file_extension": ".py",
   "mimetype": "text/x-python",
   "name": "python",
   "nbconvert_exporter": "python",
   "pygments_lexer": "ipython3",
   "version": "3.12.4"
  }
 },
 "nbformat": 4,
 "nbformat_minor": 5
}
