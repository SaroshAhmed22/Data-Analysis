{
 "cells": [
  {
   "cell_type": "code",
   "execution_count": 18,
   "id": "00126ae2-fd44-46d5-8d26-d934e9f99b8f",
   "metadata": {},
   "outputs": [
    {
     "name": "stdout",
     "output_type": "stream",
     "text": [
      "Twinkle, twinkle, little star\n",
      "    How I wonder what you are!\n",
      "        Up above the world so high\n",
      "        Like a diamond in the sky.\n",
      "    Twinkle, twinkle, little star,\n",
      "    How I wonder what you are\n"
     ]
    }
   ],
   "source": [
    "#1\n",
    "print('''Twinkle, twinkle, little star\n",
    "    How I wonder what you are!\n",
    "        Up above the world so high\n",
    "        Like a diamond in the sky.\n",
    "    Twinkle, twinkle, little star,\n",
    "    How I wonder what you are''')"
   ]
  },
  {
   "cell_type": "code",
   "execution_count": 24,
   "id": "1c8c4178-e329-4317-8ad6-11f8a9dbcaa7",
   "metadata": {},
   "outputs": [
    {
     "name": "stdout",
     "output_type": "stream",
     "text": [
      "Python version is : 3.12.4 | packaged by Anaconda, Inc. | (main, Jun 18 2024, 15:03:56) [MSC v.1929 64 bit (AMD64)]\n"
     ]
    }
   ],
   "source": [
    "#2\n",
    "import sys\n",
    "python_version = sys.version\n",
    "\n",
    "print(\"Python version is :\", python_version)\n"
   ]
  },
  {
   "cell_type": "code",
   "execution_count": 26,
   "id": "779c7caf-be34-49d7-989c-a9fb996c26d7",
   "metadata": {},
   "outputs": [
    {
     "name": "stdout",
     "output_type": "stream",
     "text": [
      "2024-08-03 00:21:52.299582\n"
     ]
    }
   ],
   "source": [
    "#3\n",
    "import datetime\n",
    "\n",
    "datetimenow = datetime.datetime.now()\n",
    "print(datetimenow)"
   ]
  },
  {
   "cell_type": "code",
   "execution_count": 38,
   "id": "0d749114-b026-4b0d-9b83-8b73d2e01963",
   "metadata": {},
   "outputs": [
    {
     "name": "stdin",
     "output_type": "stream",
     "text": [
      "Please input radius 3\n"
     ]
    },
    {
     "name": "stdout",
     "output_type": "stream",
     "text": [
      "area is 28.259999999999998\n"
     ]
    }
   ],
   "source": [
    "#4\n",
    "radius =input('Please input radius')\n",
    "\n",
    "print ('area is' , 3.14*float(radius)*float(radius))"
   ]
  },
  {
   "cell_type": "code",
   "execution_count": 42,
   "id": "cc0a0b3a-b9e7-4622-b6ff-16621c35c4a5",
   "metadata": {},
   "outputs": [
    {
     "name": "stdin",
     "output_type": "stream",
     "text": [
      "Enter your first name:  sarosh\n",
      "Enter your last name:  Ahmed\n"
     ]
    },
    {
     "name": "stdout",
     "output_type": "stream",
     "text": [
      "Ahmed sarosh\n"
     ]
    }
   ],
   "source": [
    "#5\n",
    "first_name = input(\"Enter your first name: \")\n",
    "last_name = input(\"Enter your last name: \")\n",
    "\n",
    "print(last_name + \" \" + first_name)\n"
   ]
  },
  {
   "cell_type": "code",
   "execution_count": 50,
   "id": "5ae40318-31d5-4d5a-b0c2-4cd69ba04703",
   "metadata": {},
   "outputs": [
    {
     "name": "stdin",
     "output_type": "stream",
     "text": [
      "Please input first number 1\n",
      "Please input Second number 2\n"
     ]
    },
    {
     "name": "stdout",
     "output_type": "stream",
     "text": [
      "Sum is  3\n"
     ]
    }
   ],
   "source": [
    "#6\n",
    "n1 =input('Please input first number')\n",
    "n2 =input('Please input Second number')\n",
    "print ('Sum is ', int(n1)+int(n2))"
   ]
  },
  {
   "cell_type": "code",
   "execution_count": 60,
   "id": "e9975df8-d68d-4b72-bad9-65e179ff6fe0",
   "metadata": {},
   "outputs": [
    {
     "name": "stdin",
     "output_type": "stream",
     "text": [
      "Please input English number 1\n",
      "Please input Math number 2\n",
      "Please input Urdu number 3\n"
     ]
    },
    {
     "name": "stdout",
     "output_type": "stream",
     "text": [
      "Total marks are  6\n"
     ]
    }
   ],
   "source": [
    "#7\n",
    "marks1 =input('Please input English number')\n",
    "marks2 =input('Please input Math number')\n",
    "marks3 =input('Please input Urdu number')\n",
    "Total =int (marks1)+int (marks2)+int (marks3)\n",
    "print('Total marks are ', Total)\n"
   ]
  },
  {
   "cell_type": "code",
   "execution_count": 64,
   "id": "b6d34552-8f3c-4670-b7b2-7dcee38a4e04",
   "metadata": {},
   "outputs": [
    {
     "name": "stdin",
     "output_type": "stream",
     "text": [
      "Enter a number:  1\n"
     ]
    },
    {
     "name": "stdout",
     "output_type": "stream",
     "text": [
      "1 is an odd number.\n"
     ]
    }
   ],
   "source": [
    "#8\n",
    "\n",
    "number = int(input(\"Enter a number: \"))\n",
    "\n",
    "if number % 2 == 0:\n",
    "    print(f\"{number} is an even number.\")\n",
    "else:\n",
    "    print(f\"{number} is an odd number.\")"
   ]
  },
  {
   "cell_type": "code",
   "execution_count": 68,
   "id": "9eed9e29-890d-45b4-8494-3defd94b1706",
   "metadata": {},
   "outputs": [
    {
     "name": "stdout",
     "output_type": "stream",
     "text": [
      "The length of the list is: 5\n"
     ]
    }
   ],
   "source": [
    "#9\n",
    "\n",
    "my_list = [1,200, 300, 400, 500]\n",
    "list_length = len(my_list)\n",
    "print(\"The length of the list is:\", list_length)\n"
   ]
  },
  {
   "cell_type": "code",
   "execution_count": 70,
   "id": "e248c637-8698-483b-8bde-2512ce19a958",
   "metadata": {},
   "outputs": [
    {
     "name": "stdout",
     "output_type": "stream",
     "text": [
      "The largest number in the list is: 1199\n"
     ]
    }
   ],
   "source": [
    "#11\n",
    "\n",
    "my_list = [180, 290, 4, 485, 1199]\n",
    "largest_number = max(my_list)\n",
    "print(\"The largest number in the list is:\", largest_number)\n"
   ]
  },
  {
   "cell_type": "code",
   "execution_count": 74,
   "id": "efb8d6e6-4c01-4ea3-a68c-cd6d2651c92b",
   "metadata": {},
   "outputs": [
    {
     "name": "stdout",
     "output_type": "stream",
     "text": [
      "1\n",
      "1\n",
      "2\n",
      "3\n",
      "1\n",
      "3\n"
     ]
    }
   ],
   "source": [
    "#12\n",
    "\n",
    "\n",
    "a = [1, 1, 2, 3, 5, 8, 13, 21, 34, 55, 89,100,1,3]\n",
    "\n",
    "for element in a:\n",
    "    if element < 5:\n",
    "        print(element)\n"
   ]
  },
  {
   "cell_type": "code",
   "execution_count": null,
   "id": "bd44face-74a1-4b2c-b024-da5ba928a2ab",
   "metadata": {},
   "outputs": [],
   "source": []
  },
  {
   "cell_type": "code",
   "execution_count": null,
   "id": "36ef0490-f0f0-4034-a487-bd52f4d5f8e1",
   "metadata": {},
   "outputs": [],
   "source": []
  }
 ],
 "metadata": {
  "kernelspec": {
   "display_name": "Python 3 (ipykernel)",
   "language": "python",
   "name": "python3"
  },
  "language_info": {
   "codemirror_mode": {
    "name": "ipython",
    "version": 3
   },
   "file_extension": ".py",
   "mimetype": "text/x-python",
   "name": "python",
   "nbconvert_exporter": "python",
   "pygments_lexer": "ipython3",
   "version": "3.12.4"
  }
 },
 "nbformat": 4,
 "nbformat_minor": 5
}
