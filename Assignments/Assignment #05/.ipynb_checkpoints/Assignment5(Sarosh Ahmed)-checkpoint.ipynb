{
 "cells": [
  {
   "cell_type": "code",
   "execution_count": 37,
   "id": "f8928485-5a9f-4a2c-9638-bc5111baea01",
   "metadata": {},
   "outputs": [
    {
     "name": "stdout",
     "output_type": "stream",
     "text": [
      "[{'Employee_id': 1, 'name': 'Sarosh', 'Depart': 'IT'}, {'Employee_id': 2, 'name': 'Hamza', 'Depart': 'Data Acience'}, {'Employee_id': 3, 'name': 'Kamran', 'Depart': 'Science'}]\n",
      "{'Employee_id': 1, 'name': 'Sarosh', 'Depart': 'IT'}\n",
      "{'Employee_id': 2, 'name': 'Hamza', 'Depart': 'Data Acience'}\n",
      "{'Employee_id': 3, 'name': 'Kamran', 'Depart': 'Science'}\n"
     ]
    }
   ],
   "source": [
    "#01 You need to store and manage employee records where each record includes an \n",
    "#employee's ID, name, and department. (Use tuples to represent each employee record).\n",
    "\n",
    "employee_records = ([{'Employee_id': 1 ,'name':'Sarosh', 'Depart' :'IT'},{'Employee_id': 2 ,'name':'Hamza', 'Depart' :'Data Acience'},\n",
    "{'Employee_id': 3,'name':'Kamran', 'Depart' :'Science'}])\n",
    "print(employee_records)\n",
    "print(employee_records[0])\n",
    "print(employee_records[1])\n",
    "print(employee_records[2])\n",
    "\n"
   ]
  },
  {
   "cell_type": "code",
   "execution_count": 42,
   "id": "6e84468d-1551-48bf-96f5-012363dba7e2",
   "metadata": {},
   "outputs": [
    {
     "name": "stdout",
     "output_type": "stream",
     "text": [
      "[{'item_id': 1, 'Description': 'Laptop', 'Quantity': 7895}, {'item_id': 2, 'Description': 'Tablet', 'Quantity': 951}, {'item_id': 3, 'Description': 'Pencils', 'Quantity': 230}]\n",
      "{'item_id': 1, 'Description': 'Laptop', 'Quantity': 7895}\n",
      "{'item_id': 2, 'Description': 'Tablet', 'Quantity': 951}\n",
      "{'item_id': 3, 'Description': 'Pencils', 'Quantity': 230}\n"
     ]
    }
   ],
   "source": [
    "# 2 You are managing an inventory system where each item has an item ID, description,\n",
    "#and quantity available. (Use tuples to represent each inventory item).\n",
    "\n",
    "inventory_items = ([{'item_id': 1 ,'Description':'Laptop', 'Quantity' :7895},{'item_id': 2 ,'Description':'Tablet', 'Quantity' :951},\n",
    "{'item_id': 3,'Description':'Pencils', 'Quantity' :230}])\n",
    "print(inventory_items)\n",
    "print(inventory_items[0])\n",
    "print(inventory_items[1])\n",
    "print(inventory_items[2])"
   ]
  },
  {
   "cell_type": "code",
   "execution_count": 55,
   "id": "a1316014-a0fd-4e09-9ba4-532505d73e29",
   "metadata": {},
   "outputs": [
    {
     "data": {
      "text/plain": [
       "[(101, '2024-08-15', '10:00 AM', 'Team Meeting'),\n",
       " (102, '2024-08-18', '02:00 PM', 'PTM appointment'),\n",
       " (103, '2024-08-20', '11:00 AM', 'House Meeting'),\n",
       " (104, '2024-08-25', '09:00 AM', 'Client Meeting')]"
      ]
     },
     "execution_count": 55,
     "metadata": {},
     "output_type": "execute_result"
    }
   ],
   "source": [
    "# 3 You need to store the dates and times of scheduled events, like meetings or\n",
    "# appointments. (Use tuples to store date and time information).\n",
    "\n",
    "\n",
    "event1 = (101, \"2024-08-15\", \"10:00 AM\", \"Team Meeting\")\n",
    "event2 = (102, \"2024-08-18\", \"02:00 PM\", \"PTM appointment\")\n",
    "event3 = (103, \"2024-08-20\", \"11:00 AM\", \"House Meeting\")\n",
    "event4 = (104, \"2024-08-25\", \"09:00 AM\", \"Client Meeting\")\n",
    "\n",
    "\n",
    "scheduled_events = [event1, event2, event3, event4]\n",
    "\n",
    "scheduled_events\n"
   ]
  },
  {
   "cell_type": "code",
   "execution_count": 27,
   "id": "b603c800-8ee4-4f63-8f73-cd027cae9ea6",
   "metadata": {},
   "outputs": [
    {
     "name": "stdout",
     "output_type": "stream",
     "text": [
      "{'Name': 'John Doe', 'Position': 'HR Manager', 'Salary': 60000}\n"
     ]
    }
   ],
   "source": [
    "#4 Store a company's employee details, organized by department. (Use dictionary in dictionary).\n",
    "\n",
    "\n",
    "company_data = {\n",
    "    \"HR\": {\n",
    "        1: {\"Name\": \"Ali\", \"Position\": \"Recruiter\", \"Salary\": 50000},\n",
    "        2: {\"Name\": \"Babar\", \"Position\": \"Recruiter\", \"Salary\": 50000}\n",
    "    },\n",
    "    \"IT\": {\n",
    "        3: {\"Name\": \"Sarosh Ahmed\", \"Position\": \"Software Engineer\", \"Salary\": 10000},\n",
    "        4: {\"Name\": \"Kamran \", \"Position\": \"Data Scientist\", \"Salary\": 90000}\n",
    "    },\n",
    "    \"Finance\": {\n",
    "        5: {\"Name\": \"Kiran\", \"Position\": \"Accountant\", \"Salary\": 770000},\n",
    "        6: {\"Name\": \"Sarfaraz \", \"Position\": \"Accountant\", \"Salary\": 100000}\n",
    "    }\n",
    "}\n",
    "\n",
    "print(company_data['HR'][1])"
   ]
  },
  {
   "cell_type": "code",
   "execution_count": 55,
   "id": "caf84d7a-6cde-4b02-97f9-5edfaa9a5138",
   "metadata": {},
   "outputs": [
    {
     "name": "stdout",
     "output_type": "stream",
     "text": [
      "{'Name': 'Ali', 'Math': 85, 'English': 78, 'Urdu': 92}\n"
     ]
    }
   ],
   "source": [
    "#5. Keep track of student scores in various subjects and retrieve a student's scores. (Use dictionary in List).\n",
    "\n",
    "students_scores=[{\"Name\": \"Ali\", \"Math\": 85, \"English\": 78, \"Urdu\": 92},{\"Name\": \"Sarosh\", \"Math\": 100, \"English\": 78, \"Urdu\": 50},\n",
    "                 {\"Name\": \"Salman\", \"Math\": 50, \"English\": 78, \"Urdu\": 52}]\n",
    "\n",
    "print(students_scores[0])"
   ]
  },
  {
   "cell_type": "code",
   "execution_count": 71,
   "id": "c0ccf51c-7a20-4f0c-9183-e21244ec28de",
   "metadata": {},
   "outputs": [
    {
     "name": "stdout",
     "output_type": "stream",
     "text": [
      "['Task 1: Design UI', 'Task 2: Front End', 'Task 3:Back End']\n",
      "Task 1: Design UI\n",
      "Task 3: Analyze\n"
     ]
    }
   ],
   "source": [
    "#6. Track various projects and their associated tasks, and retrieve tasks for a specific project. (Use List in Dictionary).\n",
    "projects = {\n",
    "    \"Website Design\": [\"Task 1: Design UI\", \"Task 2: Front End\", \"Task 3:Back End\"],\n",
    "    \"App Design\": [\"Task 1: Design UI\", \"Task 2: Front End\", \"Task 3:Back End\"],\n",
    "    \"Data Analysis\": [\"Task 1: Collect Data\", \"Task 2: Clean Data\", \"Task 3: Analyze\"],\n",
    "}\n",
    "\n",
    "\n",
    "print(projects['Website Design'])\n",
    "print(projects['App Design'][0])\n",
    "print(projects['Data Analysis'][2])\n"
   ]
  },
  {
   "cell_type": "code",
   "execution_count": 91,
   "id": "068e7139-7551-4a37-abfc-9fd63dd3ef44",
   "metadata": {},
   "outputs": [
    {
     "name": "stdout",
     "output_type": "stream",
     "text": [
      "{'Title': 'Introduction to Python', 'Duration': '2 hours', 'Topics': ['Basics', 'Variables', 'Data Types']}\n",
      "HTML Tags\n"
     ]
    }
   ],
   "source": [
    "#7. Manage courses and their contents in a training program and retrieve details of a specific module. (dictionary in dictionary)\n",
    "training_program = {\n",
    "    \"Python Programming\": {\n",
    "        \"Module 1\": {\"Title\": \"Introduction to Python\", \"Duration\": \"2 hours\", \"Topics\": [\"Basics\", \"Variables\", \"Data Types\"]},\n",
    "        \"Module 2\": {\"Title\": \"Control Structures\", \"Duration\": \"3 hours\", \"Topics\": [\"If Statements\", \"Loops\"]},\n",
    "        \"Module 3\": {\"Title\": \"Functions and Modules\", \"Duration\": \"4 hours\", \"Topics\": [\"Defining Functions\", \"Importing Modules\"]},\n",
    "    },\n",
    "    \"Web Development\": {\n",
    "        \"Module 1\": {\"Title\": \"HTML Basics\", \"Duration\": \"1.5 hours\", \"Topics\": [\"HTML Tags\", \"Forms\", \"Tables\"]},\n",
    "        \"Module 2\": {\"Title\": \"CSS Fundamentals\", \"Duration\": \"2 hours\", \"Topics\": [\"Selectors\", \"Layouts\", \"Flexbox\"]},\n",
    "        \"Module 3\": {\"Title\": \"JavaScript Essentials\", \"Duration\": \"3 hours\", \"Topics\": [\"Variables\", \"Functions\", \"DOM Manipulation\"]},\n",
    "    }\n",
    "  \n",
    "}\n",
    "\n",
    "print(training_program[\"Python Programming\"][\"Module 1\"])\n",
    "print(training_program[\"Web Development\"][\"Module 1\"]['Topics'][0])\n",
    "\n"
   ]
  },
  {
   "cell_type": "code",
   "execution_count": 158,
   "id": "2673cdd7-6035-452b-9a98-3300d7aef624",
   "metadata": {},
   "outputs": [
    {
     "name": "stdin",
     "output_type": "stream",
     "text": [
      "Enter the price threshold:  1\n"
     ]
    },
    {
     "name": "stdout",
     "output_type": "stream",
     "text": [
      "\n",
      "Product below 1.0: Banana, which costs $0.50\n"
     ]
    }
   ],
   "source": [
    "#8 You have a list where each element is a tuple containing a product's name and its\n",
    "#price. You need to find products that are below a certain price threshold. (Use unpacking\n",
    "#lists of tuples)\n",
    "\n",
    "products = [\n",
    "    (\"Apple\", 1.20),\n",
    "    (\"Banana\", 0.50),\n",
    "    (\"Cherry\", 3.00),\n",
    "    (\"Date\", 2.50),\n",
    "    (\"Eggplant\", 1.80),\n",
    "    (\"Fig\", 2.00),\n",
    "    (\"Grapes\", 2.75),\n",
    "]\n",
    "\n",
    "threshold = float(input(\"Enter the price threshold: \"))\n",
    "\n",
    "product_found = False\n",
    "\n",
    "for name, price in products:\n",
    "    if price < threshold:\n",
    "        print(f\"\\nProduct below {threshold}: {name}, which costs ${price:.2f}\")\n",
    "        product_found = True\n",
    "        break\n",
    "\n",
    "if not product_found:\n",
    "    print(f\"\\nNo product found under {threshold}.\")\n"
   ]
  },
  {
   "cell_type": "code",
   "execution_count": null,
   "id": "052ace5a-0746-4baf-941c-92e49eb7a463",
   "metadata": {},
   "outputs": [],
   "source": []
  }
 ],
 "metadata": {
  "kernelspec": {
   "display_name": "Python 3 (ipykernel)",
   "language": "python",
   "name": "python3"
  },
  "language_info": {
   "codemirror_mode": {
    "name": "ipython",
    "version": 3
   },
   "file_extension": ".py",
   "mimetype": "text/x-python",
   "name": "python",
   "nbconvert_exporter": "python",
   "pygments_lexer": "ipython3",
   "version": "3.12.4"
  }
 },
 "nbformat": 4,
 "nbformat_minor": 5
}
