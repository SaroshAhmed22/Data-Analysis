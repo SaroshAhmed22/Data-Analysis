{
 "cells": [
  {
   "cell_type": "code",
   "execution_count": 80,
   "id": "a2251dbb-b660-4e2d-a674-279492e968f9",
   "metadata": {},
   "outputs": [
    {
     "name": "stdout",
     "output_type": "stream",
     "text": [
      "Hello\n",
      "1000000\n"
     ]
    }
   ],
   "source": [
    "num_List=[];\n",
    "\n",
    "def find_max(num_List):\n",
    "    print('Hello')\n",
    "    print(max(num_List))\n",
    "    \n",
    "\n",
    "find_max([1,2,3,100,4242,43434,1000000])"
   ]
  },
  {
   "cell_type": "code",
   "execution_count": 72,
   "id": "d4598cf7-01cb-4da4-8dc1-59bd4dc9a525",
   "metadata": {},
   "outputs": [
    {
     "name": "stdout",
     "output_type": "stream",
     "text": [
      "3\n"
     ]
    }
   ],
   "source": []
  },
  {
   "cell_type": "code",
   "execution_count": null,
   "id": "17fbc676-1648-442a-9f3f-f47a17c7573c",
   "metadata": {},
   "outputs": [],
   "source": []
  }
 ],
 "metadata": {
  "kernelspec": {
   "display_name": "Python 3 (ipykernel)",
   "language": "python",
   "name": "python3"
  },
  "language_info": {
   "codemirror_mode": {
    "name": "ipython",
    "version": 3
   },
   "file_extension": ".py",
   "mimetype": "text/x-python",
   "name": "python",
   "nbconvert_exporter": "python",
   "pygments_lexer": "ipython3",
   "version": "3.12.4"
  }
 },
 "nbformat": 4,
 "nbformat_minor": 5
}
