{
 "cells": [
  {
   "cell_type": "code",
   "execution_count": 1,
   "id": "76dce45d-e9fa-4e14-9706-54c4d5ccad95",
   "metadata": {},
   "outputs": [],
   "source": [
    "import numpy as np\n",
    "import pandas as pd\n",
    "import matplotlib.pyplot as plt\n",
    "import seaborn as sns\n",
    "import warnings\n",
    "warnings.filterwarnings('ignore')"
   ]
  },
  {
   "cell_type": "markdown",
   "id": "50f510d7-e9eb-4dcb-839c-58a7aaeadaa9",
   "metadata": {},
   "source": [
    "### Import the Data\n",
    "Let's extract the our **Titanic data** from the .csv file, create a  pandas DataFrame and look at the available indicators:\n",
    "\n",
    "- ***Survived***: Outcome of survival (0 = No; 1 = Yes)\n",
    "- ***Pclass***: Socio-economic class (1 = Upper class; 2 = Middle class; 3 = Lower class)\n",
    "- ***Name***: Name of passenger\n",
    "- ***Sex***: Sex of the passenger\n",
    "- ***Age***: Age of the passenger (Some entries contain NaN)\n",
    "- ***SibSp***: Number of siblings and spouses of the passenger aboard\n",
    "- ***Parch***: Number of parents and children of the passenger aboard\n",
    "- ***Ticket***: Ticket number of the passenger\n",
    "- ***Fare***: Fare paid by the passenger\n",
    "- ***Cabin***: Cabin number of the passenger (Some entries contain NaN)\n",
    "- ***Embarked***: Port of embarkation of the passenger (C = Cherbourg; Q = Queenstown; S = Southampton)"
   ]
  },
  {
   "cell_type": "code",
   "execution_count": null,
   "id": "33bfd1c7-018c-4e11-a786-697e40544223",
   "metadata": {},
   "outputs": [],
   "source": [
    "df = pd.read_csv(\"titanic_dataset.csv\")\n",
    "df"
   ]
  },
  {
   "cell_type": "code",
   "execution_count": null,
   "id": "11e52315-8c75-420d-9724-888a04c9ee37",
   "metadata": {},
   "outputs": [],
   "source": [
    "df.shape"
   ]
  },
  {
   "cell_type": "code",
   "execution_count": null,
   "id": "7d3ef6ab-3d90-41cb-bbf4-4ea8effb8f63",
   "metadata": {},
   "outputs": [],
   "source": [
    "df.head()"
   ]
  },
  {
   "cell_type": "code",
   "execution_count": null,
   "id": "1c9fe2d1-4519-4928-a964-1c030f5b138d",
   "metadata": {},
   "outputs": [],
   "source": [
    "df.info()"
   ]
  },
  {
   "cell_type": "markdown",
   "id": "8771b861-2016-47c0-9dca-1cdcafe41edb",
   "metadata": {},
   "source": [
    "## Distribution plots"
   ]
  },
  {
   "cell_type": "code",
   "execution_count": null,
   "id": "f233c8ac-c310-416d-bb34-3bdd6630527d",
   "metadata": {},
   "outputs": [],
   "source": [
    "df['Parch'].unique()"
   ]
  },
  {
   "cell_type": "code",
   "execution_count": null,
   "id": "81afaa85-d5e8-436e-85eb-ecbfbd2a64a6",
   "metadata": {},
   "outputs": [],
   "source": [
    "sns.histplot(df['Parch'],kde=True)\n",
    "plt.show()"
   ]
  },
  {
   "cell_type": "markdown",
   "id": "c4ad73f5-5c29-4d66-b8bc-935e472d7fc2",
   "metadata": {},
   "source": [
    "**As we can see, most passengers don't have neither parents nor children aboard.**"
   ]
  },
  {
   "cell_type": "code",
   "execution_count": null,
   "id": "fbb55ffb-7cc0-4317-9bc4-377575782232",
   "metadata": {},
   "outputs": [],
   "source": [
    "sns.distplot(df['Age'], hist=False)\n",
    "plt.show()"
   ]
  },
  {
   "cell_type": "markdown",
   "id": "abbf95e5-c888-40d3-a2e3-2955f27e368d",
   "metadata": {},
   "source": [
    "**As we can see that most of the passenger has the age between 20 to 40**"
   ]
  },
  {
   "cell_type": "code",
   "execution_count": null,
   "id": "59739676-256e-469f-af16-64d246e89cd6",
   "metadata": {},
   "outputs": [],
   "source": [
    "plt.figure(figsize=(8,8))\n",
    "sns.distplot(df['Age'])\n",
    "plt.show()"
   ]
  },
  {
   "cell_type": "code",
   "execution_count": null,
   "id": "dff1ed39-f947-47e1-811f-3e7f457f0ff3",
   "metadata": {},
   "outputs": [],
   "source": [
    "df.isnull().sum()"
   ]
  },
  {
   "cell_type": "code",
   "execution_count": null,
   "id": "b2842084-52f5-4276-9589-2d973d7916e8",
   "metadata": {},
   "outputs": [],
   "source": [
    "# Heatmap\n",
    "sns.heatmap(df.isnull(),yticklabels = False, cbar = False,cmap = 'tab20c_r')\n",
    "plt.title('Missing Data')\n",
    "plt.show()"
   ]
  },
  {
   "cell_type": "code",
   "execution_count": null,
   "id": "bf347eb0-e559-4f87-a354-0165a5325c90",
   "metadata": {},
   "outputs": [],
   "source": [
    "df['Age'].median()"
   ]
  },
  {
   "cell_type": "code",
   "execution_count": null,
   "id": "48655ee4-e3aa-406d-a10d-504cc0ae998f",
   "metadata": {},
   "outputs": [],
   "source": [
    "df['Age'].mean()"
   ]
  },
  {
   "cell_type": "code",
   "execution_count": null,
   "id": "c26ba7c9-9cd7-421c-9ea3-3efa99fd7fb5",
   "metadata": {},
   "outputs": [],
   "source": [
    "sns.boxplot(df['Age'])"
   ]
  },
  {
   "cell_type": "code",
   "execution_count": null,
   "id": "2ee7c665-30c1-4f23-b089-673ac0403de7",
   "metadata": {},
   "outputs": [],
   "source": [
    "plt.figure(figsize = (10,7))\n",
    "sns.boxplot(x = 'Pclass', y = 'Age', data = df, palette= 'GnBu_d').set_title('Age by Passenger Class')\n",
    "plt.show()"
   ]
  },
  {
   "cell_type": "code",
   "execution_count": null,
   "id": "2755467a-3dcb-41a1-830c-6ec2e84d9fee",
   "metadata": {},
   "outputs": [],
   "source": [
    "# Imputation function\n",
    "def impute_age(cols):\n",
    "    Age = cols[0]\n",
    "    Pclass = cols[1]\n",
    "\n",
    "    if pd.isnull(Age):\n",
    "\n",
    "        if Pclass == 1:\n",
    "            return 37\n",
    "\n",
    "        elif Pclass == 2:\n",
    "            return 29\n",
    "\n",
    "        else:\n",
    "            return 24\n",
    "\n",
    "    else:\n",
    "        return Age\n"
   ]
  },
  {
   "cell_type": "code",
   "execution_count": null,
   "id": "255c1d4c-b803-4fdf-9810-a1770f64266d",
   "metadata": {},
   "outputs": [],
   "source": [
    "# Apply the function to the Age column\n",
    "df['Age']=df[['Age','Pclass']].apply(impute_age, axis =1)"
   ]
  },
  {
   "cell_type": "code",
   "execution_count": null,
   "id": "15e7a645-35c4-42dc-830d-faa36f8d24da",
   "metadata": {},
   "outputs": [],
   "source": [
    "df['Age'].isnull().sum()"
   ]
  },
  {
   "cell_type": "code",
   "execution_count": null,
   "id": "0e4d5375-d52d-41f7-a026-710ad62841fb",
   "metadata": {},
   "outputs": [],
   "source": [
    "sns.heatmap(df.isnull())"
   ]
  },
  {
   "cell_type": "code",
   "execution_count": null,
   "id": "0a52d326-bd03-404b-87bf-710adbc9b3f8",
   "metadata": {},
   "outputs": [],
   "source": [
    "# Remove Cabin feature\n",
    "df.drop('Cabin', axis = 1, inplace = True)"
   ]
  },
  {
   "cell_type": "code",
   "execution_count": null,
   "id": "f1ace7df-0b33-4bc7-a62d-41e1540feecc",
   "metadata": {},
   "outputs": [],
   "source": [
    "sns.heatmap(df.isnull())"
   ]
  },
  {
   "cell_type": "code",
   "execution_count": null,
   "id": "74f38e82-37ab-46a8-9552-1a6a67ad220f",
   "metadata": {},
   "outputs": [],
   "source": [
    "df.info()"
   ]
  },
  {
   "cell_type": "code",
   "execution_count": null,
   "id": "7dab9205-cfbe-4319-bfa4-fa7b9c5666e7",
   "metadata": {},
   "outputs": [],
   "source": [
    "df = df.dropna()"
   ]
  },
  {
   "cell_type": "code",
   "execution_count": null,
   "id": "d51cb6ea-be74-488c-8f6b-c48f6f20f2b4",
   "metadata": {},
   "outputs": [],
   "source": [
    "df.info()"
   ]
  },
  {
   "cell_type": "markdown",
   "id": "0464f816-730d-46be-9fa1-f7a5f9483767",
   "metadata": {},
   "source": [
    "## **Relational plots**"
   ]
  },
  {
   "cell_type": "code",
   "execution_count": null,
   "id": "e198d526-6cb6-48b5-bdee-1601e8ab530c",
   "metadata": {},
   "outputs": [],
   "source": [
    "sns.relplot(x=\"Age\", y=\"Fare\", col=\"Pclass\", hue=\"Sex\", style=\"Sex\",kind=\"line\", data=df)\n",
    "plt.show()"
   ]
  },
  {
   "cell_type": "code",
   "execution_count": null,
   "id": "73be93ce-ff0b-4cbf-918d-b1a8eb8fca15",
   "metadata": {},
   "outputs": [],
   "source": [
    "# scatter can be used instead of \"line\" plot\n",
    "sns.relplot(x=\"Age\", y=\"Fare\", col=\"Pclass\", hue=\"Sex\", style=\"Sex\", data=df)\n",
    "plt.show()"
   ]
  },
  {
   "cell_type": "markdown",
   "id": "0f53e214-2403-4317-b7f2-8fb7d191e362",
   "metadata": {},
   "source": [
    "## **Scatterplot**"
   ]
  },
  {
   "cell_type": "code",
   "execution_count": null,
   "id": "67964c15-ba3b-45fd-ab60-1fcc26c0f200",
   "metadata": {},
   "outputs": [],
   "source": [
    "plt.figure(figsize=(8,8))\n",
    "sns.scatterplot(x=\"Age\", y=\"Fare\", hue=\"Sex\", data=df)\n",
    "plt.show()"
   ]
  },
  {
   "cell_type": "markdown",
   "id": "eacdb239-a730-41d4-9bd4-ffeb2bb6760d",
   "metadata": {},
   "source": [
    "## **lineplot**"
   ]
  },
  {
   "cell_type": "code",
   "execution_count": null,
   "id": "149b0b94-c7fd-4540-a3a0-e524ee990de3",
   "metadata": {},
   "outputs": [],
   "source": [
    "plt.figure(figsize=(8,8))\n",
    "sns.lineplot(x=\"Age\", y=\"Fare\", hue=\"Sex\", style=\"Sex\", data=df)\n",
    "plt.show()"
   ]
  },
  {
   "cell_type": "markdown",
   "id": "c196f62f-7ea3-40cc-821e-b795cb79fcef",
   "metadata": {},
   "source": [
    "# **Categorical Plot**"
   ]
  },
  {
   "cell_type": "markdown",
   "id": "8ca24a88-3728-4fcf-97a0-64951eac5f11",
   "metadata": {},
   "source": [
    "### **barplot**"
   ]
  },
  {
   "cell_type": "code",
   "execution_count": null,
   "id": "e4a3bd8d-c224-4707-9c4c-2e111bc2e37f",
   "metadata": {},
   "outputs": [],
   "source": [
    "plt.figure(figsize=(8,8))\n",
    "sns.barplot(x=\"Sex\", y=\"Survived\", hue=\"Pclass\", data=df)\n",
    "plt.show()"
   ]
  },
  {
   "cell_type": "markdown",
   "id": "d757fa5e-6cf7-4624-876b-c1243c3febd0",
   "metadata": {},
   "source": [
    "**As we can see, More women survived than men.**"
   ]
  },
  {
   "cell_type": "markdown",
   "id": "48acb4c4-7ae6-4037-aeb5-5c2e263f6afd",
   "metadata": {},
   "source": [
    "### **stripplot**"
   ]
  },
  {
   "cell_type": "code",
   "execution_count": null,
   "id": "b97c7a3a-9df2-42dc-9a42-ce3b7ded9614",
   "metadata": {},
   "outputs": [],
   "source": [
    "plt.figure(figsize=(8,8))\n",
    "sns.stripplot(x=\"Sex\", y=\"Age\",hue='Sex', data=df)\n",
    "plt.show()"
   ]
  },
  {
   "cell_type": "markdown",
   "id": "cbb4a42f-b4d6-4a60-a0fc-0f99178df3dd",
   "metadata": {},
   "source": [
    "### **swarmplot**"
   ]
  },
  {
   "cell_type": "code",
   "execution_count": null,
   "id": "9935b064-c4bc-4830-906f-37a37333e04f",
   "metadata": {},
   "outputs": [],
   "source": [
    "plt.figure(figsize=(8,8))\n",
    "sns.swarmplot(x=\"Sex\", y=\"Age\",hue='Sex', data=df)\n",
    "plt.show()"
   ]
  },
  {
   "cell_type": "markdown",
   "id": "e004dd8d-1ac9-4962-bc12-35552bdb9503",
   "metadata": {},
   "source": [
    "**We can said that more passengers are approximally between 18 and 40 years old.**"
   ]
  },
  {
   "cell_type": "markdown",
   "id": "eeeddfae-96af-4a08-8abc-e34ad29479cb",
   "metadata": {},
   "source": [
    "### **violinplot**"
   ]
  },
  {
   "cell_type": "markdown",
   "id": "96a4740b-645c-4dd0-a750-93cd6f01c8d1",
   "metadata": {},
   "source": [
    "Violin Plots are a combination of the box plot with the kernel density estimates. So, these plots are easier to analyze and understand the distribution of the data."
   ]
  },
  {
   "cell_type": "code",
   "execution_count": null,
   "id": "1c73de85-a6cb-43f3-bf91-ddd5e908f7b4",
   "metadata": {},
   "outputs": [],
   "source": [
    "sns.violinplot(x=\"Survived\", y=\"Age\", hue='Sex', data=df)\n",
    "plt.show()"
   ]
  },
  {
   "cell_type": "markdown",
   "id": "e92cc4e3-a0a7-459b-8b3d-46f637a5aea6",
   "metadata": {},
   "source": [
    "### **Countplot**"
   ]
  },
  {
   "cell_type": "code",
   "execution_count": null,
   "id": "d5f38c25-d74e-4be8-9ec7-8327216434da",
   "metadata": {},
   "outputs": [],
   "source": [
    "sns.countplot(x=\"Survived\", data=df, palette=\"Blues\");\n",
    "plt.show()"
   ]
  },
  {
   "cell_type": "code",
   "execution_count": null,
   "id": "d00ea2c2-2aca-44a7-8351-d125a5704e32",
   "metadata": {},
   "outputs": [],
   "source": [
    "sns.countplot(x = \"Pclass\", hue = \"Sex\",data = df)\n",
    "plt.show()"
   ]
  },
  {
   "cell_type": "code",
   "execution_count": null,
   "id": "f9943c86-5944-4099-993e-5f696e6c0dd6",
   "metadata": {},
   "outputs": [],
   "source": [
    "sns.countplot(y = \"Sex\", data = df)\n",
    "plt.show()"
   ]
  },
  {
   "cell_type": "markdown",
   "id": "97997ebe-dbbc-45a0-af05-13431abf3c45",
   "metadata": {},
   "source": [
    "## **Multi-plot grids**"
   ]
  },
  {
   "cell_type": "markdown",
   "id": "0d2d5d7e-cfbc-4e91-9776-03ad5c73db97",
   "metadata": {},
   "source": [
    "### **Facet grids**"
   ]
  },
  {
   "cell_type": "code",
   "execution_count": null,
   "id": "cb17d650-9e8f-4d41-a429-aa28e84ff61a",
   "metadata": {},
   "outputs": [],
   "source": [
    "# initialize the FacetGrid object\n",
    "g = sns.FacetGrid(df, col='Survived', row='Pclass')\n",
    "\n",
    "g.map(plt.hist, 'Age')\n",
    "g.add_legend()\n",
    "plt.show()"
   ]
  },
  {
   "cell_type": "code",
   "execution_count": null,
   "id": "bab50bb9-6dea-474e-b65d-027eed85e96a",
   "metadata": {},
   "outputs": [],
   "source": [
    "sns.pairplot(data=df)\n",
    "plt.show()"
   ]
  },
  {
   "cell_type": "markdown",
   "id": "ba9eb99b-028a-4f79-b55f-327dfc12b112",
   "metadata": {},
   "source": [
    "## **Matrix plots**"
   ]
  },
  {
   "cell_type": "markdown",
   "id": "19272bdf-39a0-43c6-9551-23bbeee5c046",
   "metadata": {},
   "source": [
    "### **heatmap**"
   ]
  },
  {
   "cell_type": "code",
   "execution_count": null,
   "id": "d633046a-6c4e-4122-8383-ddc334863522",
   "metadata": {},
   "outputs": [],
   "source": [
    "df.corr()"
   ]
  },
  {
   "cell_type": "code",
   "execution_count": null,
   "id": "d8664de0-8194-41a7-8f19-b13164809d2e",
   "metadata": {},
   "outputs": [],
   "source": [
    "numeric_df = df.select_dtypes(include=['float64', 'int64'])\n",
    "numeric_df"
   ]
  },
  {
   "cell_type": "code",
   "execution_count": null,
   "id": "8e6e1cd2-e4eb-43bb-9793-2c262584d02a",
   "metadata": {},
   "outputs": [],
   "source": [
    "numeric_df.dtypes"
   ]
  },
  {
   "cell_type": "code",
   "execution_count": null,
   "id": "07303c6b-42c7-4c36-8ba8-c880f55934d6",
   "metadata": {},
   "outputs": [],
   "source": [
    "numeric_df.corr()"
   ]
  },
  {
   "cell_type": "code",
   "execution_count": null,
   "id": "05c80e3b-644a-4a6f-9089-a651923fa5ba",
   "metadata": {},
   "outputs": [],
   "source": [
    "sns.heatmap(numeric_df.corr(), cmap=\"YlGnBu\", annot=True, fmt=\".2f\")\n",
    "plt.show()"
   ]
  },
  {
   "cell_type": "code",
   "execution_count": null,
   "id": "3d149a75-4e8b-4398-8439-45927ed26b8e",
   "metadata": {},
   "outputs": [],
   "source": []
  }
 ],
 "metadata": {
  "kernelspec": {
   "display_name": "Python 3 (ipykernel)",
   "language": "python",
   "name": "python3"
  },
  "language_info": {
   "codemirror_mode": {
    "name": "ipython",
    "version": 3
   },
   "file_extension": ".py",
   "mimetype": "text/x-python",
   "name": "python",
   "nbconvert_exporter": "python",
   "pygments_lexer": "ipython3",
   "version": "3.12.4"
  }
 },
 "nbformat": 4,
 "nbformat_minor": 5
}
