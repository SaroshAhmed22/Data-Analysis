{
 "cells": [
  {
   "cell_type": "code",
   "execution_count": 33,
   "id": "6c75f157-7e58-4575-b056-c24498bef9db",
   "metadata": {},
   "outputs": [
    {
     "name": "stdout",
     "output_type": "stream",
     "text": [
      "\n",
      "What is OOP?\n",
      " a) Object Oriented Programming\n",
      " b) Object Oriend programming\n",
      " c) App\n",
      " d) none \n"
     ]
    },
    {
     "name": "stdin",
     "output_type": "stream",
     "text": [
      "\n",
      "Write option (a, b, c, or d):  a\n"
     ]
    },
    {
     "name": "stdout",
     "output_type": "stream",
     "text": [
      "\n",
      "What is Python?\n",
      " a) snake\n",
      " b) Programming Language\n",
      " c) girl\n",
      " d) boy\n"
     ]
    },
    {
     "name": "stdin",
     "output_type": "stream",
     "text": [
      "\n",
      "Write option (a, b, c, or d):  a\n"
     ]
    },
    {
     "name": "stdout",
     "output_type": "stream",
     "text": [
      "\n",
      "What is the Capital of Pakistan?\n",
      " a) Dubai\n",
      " b) New York\n",
      " c) India\n",
      " d) Islamabad\n"
     ]
    },
    {
     "name": "stdin",
     "output_type": "stream",
     "text": [
      "\n",
      "Write option (a, b, c, or d):  a\n"
     ]
    },
    {
     "name": "stdout",
     "output_type": "stream",
     "text": [
      "\n",
      "Your Score is 1\n"
     ]
    }
   ],
   "source": [
    "questions = [\n",
    "    '\\nWhat is OOP?\\n a) Object Oriented Programming\\n b) Object Oriend programming\\n c) App\\n d) none ',\n",
    "    '\\nWhat is Python?\\n a) snake\\n b) Programming Language\\n c) girl\\n d) boy',\n",
    "    '\\nWhat is the Capital of Pakistan?\\n a) Dubai\\n b) New York\\n c) India\\n d) Islamabad'\n",
    "]\n",
    "\n",
    "answer_list = []\n",
    "correct_answer_list = ['a', 'b', 'd']\n",
    "\n",
    "for question in questions:\n",
    "    print(question)\n",
    "    answer = input('\\nWrite option (a, b, c, or d): ')\n",
    "    answer_list.append(answer)\n",
    "            \n",
    "# Calculating score\n",
    "score = 0\n",
    "for i in range(len(answer_list)):\n",
    "    if correct_answer_list[i] == answer_list[i]:\n",
    "        score =score+1\n",
    "\n",
    "    else:\n",
    "        score =score+0\n",
    "\n",
    "\n",
    "print('\\nYour Score is', score)\n"
   ]
  },
  {
   "cell_type": "code",
   "execution_count": 56,
   "id": "e3f8c135-43f5-481b-9db2-5aced2dce262",
   "metadata": {},
   "outputs": [
    {
     "name": "stdin",
     "output_type": "stream",
     "text": [
      "Write Number 5\n"
     ]
    },
    {
     "name": "stdout",
     "output_type": "stream",
     "text": [
      "5 * 1=5\n",
      "5 * 2=10\n",
      "5 * 3=15\n",
      "5 * 4=20\n",
      "5 * 5=25\n",
      "5 * 6=30\n",
      "5 * 7=35\n",
      "5 * 8=40\n",
      "5 * 9=45\n"
     ]
    }
   ],
   "source": [
    "\n",
    "number=input('Write Number')\n",
    "for i in range(1,10):\n",
    "    print(f'{int(number)} * {i}={int(number) * i}')"
   ]
  },
  {
   "cell_type": "markdown",
   "id": "7c521b75-12d5-4c4d-a6d9-15486954f1f2",
   "metadata": {},
   "source": [
    "# Factorial Calculation"
   ]
  },
  {
   "cell_type": "code",
   "execution_count": 76,
   "id": "41e655e5-7624-4460-be7a-88a23daf86e3",
   "metadata": {},
   "outputs": [
    {
     "name": "stdin",
     "output_type": "stream",
     "text": [
      "Write Number 5\n"
     ]
    },
    {
     "name": "stdout",
     "output_type": "stream",
     "text": [
      "20\n",
      "15\n",
      "10\n",
      "5\n",
      "0\n"
     ]
    }
   ],
   "source": [
    "number=int(input('Write Number'))\n",
    "\n",
    "number2=number-1\n",
    "\n",
    "while number >0:\n",
    "    \n"
   ]
  },
  {
   "cell_type": "code",
   "execution_count": 78,
   "id": "0e1cd278-b7f2-4fce-a55b-0d64fe09d5f0",
   "metadata": {},
   "outputs": [
    {
     "name": "stdin",
     "output_type": "stream",
     "text": [
      "Write Number 2\n"
     ]
    }
   ],
   "source": [
    "number=int(input('Write Number'))\n",
    "\n",
    "number2=number-1"
   ]
  },
  {
   "cell_type": "code",
   "execution_count": 92,
   "id": "069fd7a3-1a9f-40b2-a47c-2c1b8573a76a",
   "metadata": {},
   "outputs": [
    {
     "name": "stdout",
     "output_type": "stream",
     "text": [
      "(1, 2, 1, 2)\n"
     ]
    }
   ],
   "source": [
    "a=[1,2]\n",
    "b=[4]\n",
    "\n"
   ]
  },
  {
   "cell_type": "code",
   "execution_count": 96,
   "id": "882098a1-b28e-44b5-a204-b8e7c693d215",
   "metadata": {},
   "outputs": [
    {
     "name": "stdout",
     "output_type": "stream",
     "text": [
      "15000\n"
     ]
    }
   ],
   "source": [
    "# Lists\n",
    "a = [4,3,2,1]\n",
    "b = [5]\n",
    "\n",
    "# Initialize the result to 1 (neutral element for multiplication)\n",
    "result = 1\n",
    "\n",
    "# Multiply each element of `a` by the value in `b`\n",
    "for x in a:\n",
    "    result *= x * b[0]\n",
    "\n",
    "print(result)  # Output: 16\n"
   ]
  },
  {
   "cell_type": "code",
   "execution_count": 104,
   "id": "5ec1ea2a-720f-45fd-86b1-19f4e3548a20",
   "metadata": {},
   "outputs": [
    {
     "name": "stdin",
     "output_type": "stream",
     "text": [
      "Enter a number to find its factorial:  3\n"
     ]
    },
    {
     "name": "stdout",
     "output_type": "stream",
     "text": [
      "The factorial of 3 is 6\n"
     ]
    }
   ],
   "source": [
    "def factoriasl(n):\n",
    "    if n == 0:\n",
    "        return 1\n",
    "    else:\n",
    "        return n * factoriasl(n - 1)\n",
    "\n",
    "# Example usage\n",
    "num = int(input(\"Enter a number to find its factorial: \"))\n",
    "print(f\"The factorial of {num} is {factoriasl(num)}\")\n"
   ]
  },
  {
   "cell_type": "code",
   "execution_count": 17,
   "id": "3d1ff737-ff82-4fdc-8303-1ddafea5fc15",
   "metadata": {},
   "outputs": [
    {
     "name": "stdout",
     "output_type": "stream",
     "text": [
      "[3, 2, 3, 2, 3, 2, 3, 2]\n"
     ]
    },
    {
     "ename": "IndexError",
     "evalue": "list index out of range",
     "output_type": "error",
     "traceback": [
      "\u001b[1;31m---------------------------------------------------------------------------\u001b[0m",
      "\u001b[1;31mIndexError\u001b[0m                                Traceback (most recent call last)",
      "Cell \u001b[1;32mIn[17], line 10\u001b[0m\n\u001b[0;32m      6\u001b[0m \u001b[38;5;28mprint\u001b[39m(c)\n\u001b[0;32m      8\u001b[0m factorial\u001b[38;5;241m=\u001b[39m\u001b[38;5;241m1\u001b[39m\n\u001b[1;32m---> 10\u001b[0m \u001b[38;5;28;01mwhile\u001b[39;00m a[i]\u001b[38;5;241m>\u001b[39m\u001b[38;5;241m0\u001b[39m:\n\u001b[0;32m     11\u001b[0m     \u001b[38;5;28mprint\u001b[39m(\u001b[38;5;241m1\u001b[39m)\n\u001b[0;32m     12\u001b[0m     i\u001b[38;5;241m=\u001b[39mi\u001b[38;5;241m+\u001b[39m\u001b[38;5;241m1\u001b[39m\n",
      "\u001b[1;31mIndexError\u001b[0m: list index out of range"
     ]
    }
   ],
   "source": [
    "a=[3,2]\n",
    "b=4\n",
    "\n",
    "c=b*a\n",
    "\n",
    "print(c)\n",
    "\n",
    "factorial=1\n",
    "\n",
    "while a[i]>0:\n",
    "    print(1)\n",
    "    i=i+1\n",
    "\n",
    "\n"
   ]
  },
  {
   "cell_type": "code",
   "execution_count": 25,
   "id": "b982ce61-8c7a-4994-a87f-5336c789d0c6",
   "metadata": {},
   "outputs": [
    {
     "name": "stdout",
     "output_type": "stream",
     "text": [
      "1\n",
      "1\n",
      "1\n"
     ]
    }
   ],
   "source": [
    "a = [3, 2,1]\n",
    "i = 0  # Initialize i\n",
    "\n",
    "while i < len(a) and a[i] > 0:  # Check that i is within bounds of a\n",
    "    print(1)\n",
    "    i = i + 1\n"
   ]
  },
  {
   "cell_type": "code",
   "execution_count": null,
   "id": "421fbbe7-9494-4c15-b8d3-acfdc5cfadce",
   "metadata": {},
   "outputs": [],
   "source": []
  }
 ],
 "metadata": {
  "kernelspec": {
   "display_name": "Python 3 (ipykernel)",
   "language": "python",
   "name": "python3"
  },
  "language_info": {
   "codemirror_mode": {
    "name": "ipython",
    "version": 3
   },
   "file_extension": ".py",
   "mimetype": "text/x-python",
   "name": "python",
   "nbconvert_exporter": "python",
   "pygments_lexer": "ipython3",
   "version": "3.12.4"
  }
 },
 "nbformat": 4,
 "nbformat_minor": 5
}
