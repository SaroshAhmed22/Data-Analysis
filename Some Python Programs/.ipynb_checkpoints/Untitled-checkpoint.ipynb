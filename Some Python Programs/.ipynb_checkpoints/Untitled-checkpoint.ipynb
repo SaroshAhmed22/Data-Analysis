{
 "cells": [
  {
   "cell_type": "code",
   "execution_count": 5,
   "id": "d0b97ba9-a2f6-47b7-bcda-c21f6cbe04d6",
   "metadata": {},
   "outputs": [
    {
     "name": "stdout",
     "output_type": "stream",
     "text": [
      "   ID  Version  Amount\n",
      "0   1        1     100\n",
      "1   1        2     200\n",
      "2   1        3     300\n",
      "3   1        4     400\n",
      "4   2        1     100\n",
      "5   2        2     200\n",
      "6   2        3     300\n"
     ]
    },
    {
     "name": "stderr",
     "output_type": "stream",
     "text": [
      "C:\\Users\\sarosh.ahmed\\AppData\\Local\\Temp\\ipykernel_21532\\1636979102.py:18: UserWarning: pandas only supports SQLAlchemy connectable (engine/connection) or database string URI or sqlite3 DBAPI2 connection. Other DBAPI2 objects are not tested. Please consider using SQLAlchemy.\n",
      "  data = pd.read_sql(query, conn)\n"
     ]
    }
   ],
   "source": [
    "import pyodbc\n",
    "import pandas as pd\n",
    "\n",
    "# Connection details\n",
    "server = 'BC1-WB-SAROSHA'  # The server name from your image\n",
    "database = 'practice'  # Replace with your actual database name\n",
    "\n",
    "# Connection string for Windows Authentication\n",
    "connection_str = f'DRIVER={{ODBC Driver 17 for SQL Server}};SERVER={server};DATABASE={database};Trusted_Connection=yes;'\n",
    "\n",
    "# Establish connection\n",
    "conn = pyodbc.connect(connection_str)\n",
    "\n",
    "# Example query (replace 'YourTableName' with your actual table name)\n",
    "query = 'SELECT * FROM TestTable'\n",
    "\n",
    "# Fetch data\n",
    "data = pd.read_sql(query, conn)\n",
    "\n",
    "# Close connection\n",
    "conn.close()\n",
    "\n",
    "# Display data\n",
    "print(data)\n"
   ]
  },
  {
   "cell_type": "code",
   "execution_count": 27,
   "id": "ddd2e361-af43-47eb-b248-9b55a8a55e7f",
   "metadata": {},
   "outputs": [
    {
     "name": "stdout",
     "output_type": "stream",
     "text": [
      "   SaleAmount\n",
      "0       750.0\n"
     ]
    }
   ],
   "source": [
    "import pandas as pd\n",
    "from sqlalchemy import create_engine\n",
    "\n",
    "# Connection details\n",
    "server = 'BC1-WB-SAROSHA'  # The server name from your image\n",
    "database = 'practice'  # Replace with your actual database name\n",
    "\n",
    "# SQLAlchemy connection string for Windows Authentication\n",
    "connection_string = f\"mssql+pyodbc://{server}/{database}?driver=ODBC+Driver+17+for+SQL+Server&trusted_connection=yes\"\n",
    "\n",
    "# Create engine\n",
    "engine = create_engine(connection_string)\n",
    "\n",
    "# Example query (replace 'TestTable' with your actual table name)\n",
    "query = '''SELECT SaleAmount \n",
    "FROM (\n",
    "   SELECT \n",
    "        SaleAmount,\n",
    "        row_number() OVER (ORDER BY SaleAmount DESC) AS RowNum\n",
    "    FROM Sales\n",
    ") AS ranked_salaries\n",
    "WHERE RowNum = 2;\n",
    "\n",
    "'''\n",
    "\n",
    "# Fetch data using pandas with the SQLAlchemy engine\n",
    "data = pd.read_sql(query, engine)\n",
    "\n",
    "# Display data\n",
    "print(data)\n",
    "\n",
    "# Close the connection\n",
    "engine.dispose()\n"
   ]
  },
  {
   "cell_type": "code",
   "execution_count": null,
   "id": "0e3935ea-de75-45a9-9eb9-bba67c12a612",
   "metadata": {},
   "outputs": [],
   "source": []
  }
 ],
 "metadata": {
  "kernelspec": {
   "display_name": "Python 3 (ipykernel)",
   "language": "python",
   "name": "python3"
  },
  "language_info": {
   "codemirror_mode": {
    "name": "ipython",
    "version": 3
   },
   "file_extension": ".py",
   "mimetype": "text/x-python",
   "name": "python",
   "nbconvert_exporter": "python",
   "pygments_lexer": "ipython3",
   "version": "3.12.4"
  }
 },
 "nbformat": 4,
 "nbformat_minor": 5
}
