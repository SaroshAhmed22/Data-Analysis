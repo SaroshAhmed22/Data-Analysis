{
 "cells": [
  {
   "cell_type": "code",
   "execution_count": null,
   "id": "e665aa09-d42f-40dc-9c90-bfc9a9231c83",
   "metadata": {},
   "outputs": [],
   "source": [
    "sum =0\n",
    "while (True):\n",
    "    number=input(f'Enter Price of Item of Q to quit')\n",
    "    if (number!='q'):\n",
    "        sum=sum+ int(number)\n",
    "    else:\n",
    "        print(f'Thanks for Using Calculator Your Total is {sum}')\n",
    "        break;\n",
    "    "
   ]
  },
  {
   "cell_type": "code",
   "execution_count": null,
   "id": "e4532222-0a78-4a28-9f11-a957148ff1ce",
   "metadata": {},
   "outputs": [],
   "source": []
  },
  {
   "cell_type": "code",
   "execution_count": null,
   "id": "eded6243-6737-4350-a911-12c650a9bccc",
   "metadata": {},
   "outputs": [],
   "source": []
  }
 ],
 "metadata": {
  "kernelspec": {
   "display_name": "Python 3 (ipykernel)",
   "language": "python",
   "name": "python3"
  },
  "language_info": {
   "codemirror_mode": {
    "name": "ipython",
    "version": 3
   },
   "file_extension": ".py",
   "mimetype": "text/x-python",
   "name": "python",
   "nbconvert_exporter": "python",
   "pygments_lexer": "ipython3",
   "version": "3.12.4"
  }
 },
 "nbformat": 4,
 "nbformat_minor": 5
}
