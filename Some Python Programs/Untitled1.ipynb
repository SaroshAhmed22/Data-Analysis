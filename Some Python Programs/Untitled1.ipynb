{
 "cells": [
  {
   "cell_type": "code",
   "execution_count": null,
   "id": "e665aa09-d42f-40dc-9c90-bfc9a9231c83",
   "metadata": {},
   "outputs": [],
   "source": [
    "sum =0\n",
    "while (True):\n",
    "    number=input(f'Enter Price of Item of Q to quit')\n",
    "    if (number!='q'):\n",
    "        sum=sum+ int(number)\n",
    "    else:\n",
    "        print(f'Thanks for Using Calculator Your Total is {sum}')\n",
    "        break;\n",
    "    "
   ]
  },
  {
   "cell_type": "code",
   "execution_count": 18,
   "id": "e4532222-0a78-4a28-9f11-a957148ff1ce",
   "metadata": {},
   "outputs": [
    {
     "name": "stdout",
     "output_type": "stream",
     "text": [
      "[0, 1, 2, 3, 4]\n"
     ]
    }
   ],
   "source": [
    "def generate_numbers(n):\n",
    "    numbers = []\n",
    "    for i in range(n):\n",
    "        numbers.append(i)\n",
    "    return numbers\n",
    "\n",
    "result = generate_numbers(5)\n",
    "print(result)  # Output: [0, 1, 2, 3, 4]\n"
   ]
  },
  {
   "cell_type": "code",
   "execution_count": 20,
   "id": "eded6243-6737-4350-a911-12c650a9bccc",
   "metadata": {},
   "outputs": [
    {
     "name": "stdout",
     "output_type": "stream",
     "text": [
      "0\n",
      "1\n",
      "2\n",
      "3\n",
      "4\n"
     ]
    }
   ],
   "source": [
    "def generate_numbers(n):\n",
    "    for i in range(n):\n",
    "        yield i  # This \"pauses\" the function and returns the current value\n",
    "\n",
    "# Creating a generator object\n",
    "gen = generate_numbers(5)\n",
    "\n",
    "for number in gen:\n",
    "    print(number)  # Output: 0, 1, 2, 3, 4 (printed one by one)\n"
   ]
  },
  {
   "cell_type": "code",
   "execution_count": null,
   "id": "55385432-df8d-4351-8a08-2db54a5cc6dd",
   "metadata": {},
   "outputs": [],
   "source": []
  },
  {
   "cell_type": "code",
   "execution_count": null,
   "id": "fe8d5e00-313d-462f-9f46-7a5b873ada58",
   "metadata": {},
   "outputs": [],
   "source": []
  },
  {
   "cell_type": "code",
   "execution_count": null,
   "id": "f6d908a2-930c-4693-b80b-3dc665ff4a4f",
   "metadata": {},
   "outputs": [],
   "source": []
  },
  {
   "cell_type": "code",
   "execution_count": null,
   "id": "e35ff568-dd1b-4812-8168-9734b54d80a4",
   "metadata": {},
   "outputs": [],
   "source": []
  },
  {
   "cell_type": "code",
   "execution_count": null,
   "id": "a33c3b3d-fe7b-475d-bd1c-d9e1311ab97c",
   "metadata": {},
   "outputs": [],
   "source": []
  }
 ],
 "metadata": {
  "kernelspec": {
   "display_name": "Python 3 (ipykernel)",
   "language": "python",
   "name": "python3"
  },
  "language_info": {
   "codemirror_mode": {
    "name": "ipython",
    "version": 3
   },
   "file_extension": ".py",
   "mimetype": "text/x-python",
   "name": "python",
   "nbconvert_exporter": "python",
   "pygments_lexer": "ipython3",
   "version": "3.12.4"
  }
 },
 "nbformat": 4,
 "nbformat_minor": 5
}
