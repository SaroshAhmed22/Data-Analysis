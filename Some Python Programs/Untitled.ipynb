{
 "cells": [
  {
   "cell_type": "code",
   "execution_count": null,
   "id": "38eb7038-01ef-465e-b024-645089472a6d",
   "metadata": {},
   "outputs": [
    {
     "name": "stdout",
     "output_type": "stream",
     "text": [
      "\n",
      "Welcome to my TODO app\n",
      "\n",
      "Here are The optionssss\n",
      "Press 1 to view Task\n",
      "Press 2 Add Task\n",
      "Press 3 Update Task\n",
      "Press 4 delete Task\n",
      "Press 5 to Exit\n"
     ]
    },
    {
     "name": "stdin",
     "output_type": "stream",
     "text": [
      "Enter your choice (1-5):  2\n",
      "Enter A new Task a\n"
     ]
    },
    {
     "name": "stdout",
     "output_type": "stream",
     "text": [
      "New task added Now the New task list is Now the updated list is\n",
      "\n",
      "Tasks: ['a']\n",
      "\n",
      "Here are The optionssss\n",
      "Press 1 to view Task\n",
      "Press 2 Add Task\n",
      "Press 3 Update Task\n",
      "Press 4 delete Task\n",
      "Press 5 to Exit\n"
     ]
    },
    {
     "name": "stdin",
     "output_type": "stream",
     "text": [
      "Enter your choice (1-5):  2\n",
      "Enter A new Task a\n"
     ]
    },
    {
     "name": "stdout",
     "output_type": "stream",
     "text": [
      "New task added Now the New task list is Now the updated list is\n",
      "\n",
      "Tasks: ['a', 'a']\n",
      "\n",
      "Here are The optionssss\n",
      "Press 1 to view Task\n",
      "Press 2 Add Task\n",
      "Press 3 Update Task\n",
      "Press 4 delete Task\n",
      "Press 5 to Exit\n"
     ]
    },
    {
     "name": "stdin",
     "output_type": "stream",
     "text": [
      "Enter your choice (1-5):  2\n",
      "Enter A new Task w\n"
     ]
    },
    {
     "name": "stdout",
     "output_type": "stream",
     "text": [
      "New task added Now the New task list is Now the updated list is\n",
      "\n",
      "Tasks: ['a', 'a', 'w']\n",
      "\n",
      "Here are The optionssss\n",
      "Press 1 to view Task\n",
      "Press 2 Add Task\n",
      "Press 3 Update Task\n",
      "Press 4 delete Task\n",
      "Press 5 to Exit\n"
     ]
    },
    {
     "name": "stdin",
     "output_type": "stream",
     "text": [
      "Enter your choice (1-5):  4\n"
     ]
    },
    {
     "name": "stdout",
     "output_type": "stream",
     "text": [
      "\n",
      "Tasks: ['a', 'a', 'w']\n"
     ]
    },
    {
     "name": "stdin",
     "output_type": "stream",
     "text": [
      "Enter task number to delete 1\n"
     ]
    },
    {
     "name": "stdout",
     "output_type": "stream",
     "text": [
      "\n",
      "Here are The optionssss\n",
      "Press 1 to view Task\n",
      "Press 2 Add Task\n",
      "Press 3 Update Task\n",
      "Press 4 delete Task\n",
      "Press 5 to Exit\n"
     ]
    },
    {
     "name": "stdin",
     "output_type": "stream",
     "text": [
      "Enter your choice (1-5):  2\n",
      "Enter A new Task wqwq\n"
     ]
    },
    {
     "name": "stdout",
     "output_type": "stream",
     "text": [
      "New task added Now the New task list is Now the updated list is\n",
      "\n",
      "Tasks: ['a', 'w', 'wqwq']\n",
      "\n",
      "Here are The optionssss\n",
      "Press 1 to view Task\n",
      "Press 2 Add Task\n",
      "Press 3 Update Task\n",
      "Press 4 delete Task\n",
      "Press 5 to Exit\n"
     ]
    },
    {
     "name": "stdin",
     "output_type": "stream",
     "text": [
      "Enter your choice (1-5):  1\n"
     ]
    },
    {
     "name": "stdout",
     "output_type": "stream",
     "text": [
      "\n",
      "Tasks: ['a', 'w', 'wqwq']\n",
      "\n",
      "Here are The optionssss\n",
      "Press 1 to view Task\n",
      "Press 2 Add Task\n",
      "Press 3 Update Task\n",
      "Press 4 delete Task\n",
      "Press 5 to Exit\n"
     ]
    },
    {
     "name": "stdin",
     "output_type": "stream",
     "text": [
      "Enter your choice (1-5):  4\n"
     ]
    },
    {
     "name": "stdout",
     "output_type": "stream",
     "text": [
      "\n",
      "Tasks: ['a', 'w', 'wqwq']\n"
     ]
    },
    {
     "name": "stdin",
     "output_type": "stream",
     "text": [
      "Enter task number to delete 0\n"
     ]
    },
    {
     "name": "stdout",
     "output_type": "stream",
     "text": [
      "\n",
      "Here are The optionssss\n",
      "Press 1 to view Task\n",
      "Press 2 Add Task\n",
      "Press 3 Update Task\n",
      "Press 4 delete Task\n",
      "Press 5 to Exit\n"
     ]
    },
    {
     "name": "stdin",
     "output_type": "stream",
     "text": [
      "Enter your choice (1-5):  1\n"
     ]
    },
    {
     "name": "stdout",
     "output_type": "stream",
     "text": [
      "\n",
      "Tasks: ['w', 'wqwq']\n",
      "\n",
      "Here are The optionssss\n",
      "Press 1 to view Task\n",
      "Press 2 Add Task\n",
      "Press 3 Update Task\n",
      "Press 4 delete Task\n",
      "Press 5 to Exit\n"
     ]
    }
   ],
   "source": [
    "mytasks=[]\n",
    "\n",
    "print('\\nWelcome to my TODO app')\n",
    "\n",
    "while True:\n",
    "    print('\\nHere are The optionssss')\n",
    "    print('Press 1 to view Task')\n",
    "    print('Press 2 Add Task')\n",
    "    print('Press 3 Update Task')\n",
    "    print('Press 4 delete Task')\n",
    "    print('Press 5 to Exit')  \n",
    "    \n",
    "    choice = input(\"Enter your choice (1-5): \")\n",
    "\n",
    "    if choice=='1':\n",
    "       print(\"\\nTasks:\", mytasks)\n",
    "\n",
    "    elif choice=='2':\n",
    "       newtask=input(\"Enter A new Task\")\n",
    "       mytasks.append(newtask)\n",
    "       print('New task added Now the New task list is Now the updated list is')\n",
    "       print(\"\\nTasks:\", mytasks)\n",
    "\n",
    "\n",
    "    elif choice=='3':\n",
    "       print(\"\\nTasks:\", mytasks)\n",
    "       print(\"Enter task no you want to update \")\n",
    "       index = int(input(\"Enter task number to update\"))\n",
    "       mytasks[index] = input(\"Enter new task updated: \")\n",
    "\n",
    "\n",
    "    elif choice=='4':\n",
    "       print(\"\\nTasks:\", mytasks)\n",
    "       index = int(input(\"Enter task number to delete\"))\n",
    "       mytasks.pop(index)\n",
    "        \n",
    "      \n",
    "\n",
    "\n",
    "    \n",
    "\n",
    "    \n",
    "\n"
   ]
  },
  {
   "cell_type": "code",
   "execution_count": null,
   "id": "e83eaaf4-7426-48d2-a166-a445d02c5258",
   "metadata": {},
   "outputs": [],
   "source": []
  },
  {
   "cell_type": "code",
   "execution_count": null,
   "id": "ea72177a-dd0a-4150-8236-6724638c095e",
   "metadata": {},
   "outputs": [],
   "source": []
  },
  {
   "cell_type": "code",
   "execution_count": null,
   "id": "554d2f95-a5c7-4f82-a925-0c5d1dbdcde1",
   "metadata": {},
   "outputs": [],
   "source": []
  },
  {
   "cell_type": "code",
   "execution_count": null,
   "id": "5bbb73db-a84f-4bf1-8872-4810c5faff56",
   "metadata": {},
   "outputs": [],
   "source": []
  },
  {
   "cell_type": "code",
   "execution_count": null,
   "id": "c59442cd-f014-4dda-9dc4-a1ed8f8f779f",
   "metadata": {},
   "outputs": [],
   "source": []
  }
 ],
 "metadata": {
  "kernelspec": {
   "display_name": "Python 3 (ipykernel)",
   "language": "python",
   "name": "python3"
  },
  "language_info": {
   "codemirror_mode": {
    "name": "ipython",
    "version": 3
   },
   "file_extension": ".py",
   "mimetype": "text/x-python",
   "name": "python",
   "nbconvert_exporter": "python",
   "pygments_lexer": "ipython3",
   "version": "3.12.4"
  }
 },
 "nbformat": 4,
 "nbformat_minor": 5
}
